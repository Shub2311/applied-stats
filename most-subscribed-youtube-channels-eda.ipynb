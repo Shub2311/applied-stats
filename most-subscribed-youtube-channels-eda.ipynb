{
 "cells": [
  {
   "cell_type": "markdown",
   "id": "e18eecd5",
   "metadata": {
    "papermill": {
     "duration": 0.02517,
     "end_time": "2022-08-14T03:16:47.935545",
     "exception": false,
     "start_time": "2022-08-14T03:16:47.910375",
     "status": "completed"
    },
    "tags": []
   },
   "source": [
    "# <h1 style=\"color:#896D18; font-family:Cursive; font-size: 2.5em\"><center><b>Most Subscribed YouTube Channels</center></h1> \n",
    "   "
   ]
  },
  {
   "attachments": {
    "c45f0de7aecb8139ddbbf0d3a132f4dc%20%281%29.jpg": {
     "image/jpeg": "[encoded data removed]"
    }
   },
   "cell_type": "markdown",
   "id": "5a2e7e10",
   "metadata": {
    "papermill": {
     "duration": 0.015749,
     "end_time": "2022-08-14T03:16:47.973969",
     "exception": false,
     "start_time": "2022-08-14T03:16:47.958220",
     "status": "completed"
    },
    "tags": []
   },
   "source": [
    "![c45f0de7aecb8139ddbbf0d3a132f4dc%20%281%29.jpg](attachment:c45f0de7aecb8139ddbbf0d3a132f4dc%20%281%29.jpg)"
   ]
  },
  {
   "cell_type": "markdown",
   "id": "5e5d5a75",
   "metadata": {
    "papermill": {
     "duration": 0.016018,
     "end_time": "2022-08-14T03:16:48.004717",
     "exception": false,
     "start_time": "2022-08-14T03:16:47.988699",
     "status": "completed"
    },
    "tags": []
   },
   "source": [
    "### <div style=\"text-align: left; background-color:#CCD488; font-family:Cursive; color:#906E07; padding: 15px; line-height:1;border-radius:1px; margin-bottom: 0em\">🖥 About Dataset<div>\n",
    "[**Dataset**](https://www.kaggle.com/datasets/surajjha101/top-youtube-channels-data)\n",
    "```\n",
    "YouTube is an American online video sharing and social media platform headquartered in San Bruno, California. It was launched on February 14, 2005, by Steve Chen, Chad Hurley, and Jawed Karim. Owned by Google, it is the second most visited website, right after Google itself. YouTube has more than one billion monthly users who collectively watch more than one billion hours of videos each day. As of May 2019, videos were being uploaded at a rate of more than 500 hours of content per minute.\n",
    "\n",
    "YouTube has had an unprecedented social impact, influencing popular culture, internet trends, and creating multimillionaire celebrities. Despite all its growth and success, YouTube has been widely criticized. Criticism of YouTube includes the website being used to facilitate the spread of misinformation, copyright issues, routine violations of its users' privacy, enabling censorship, and endangering child safety and wellbeing.\n",
    "```\n",
    "<h2 style=\"color:#0B5394; font-size: 1.1em\"><b>The dataset contains 7 columns:</h2> \n",
    "    \n",
    "* <b>rank</b>:           rank of youtuber (sorted by subscribers)\n",
    "* <b>youtuber</b>:      name of youtuber\n",
    "* <b>subscribers</b>:   number of subscribers\n",
    "* <b>video views</b>:   total views of video\n",
    "* <b>video count</b>:   number of uploaded videos\n",
    "* <b>category</b>:      category of video\n",
    "* <b>started</b>:       started year "
   ]
  },
  {
   "cell_type": "markdown",
   "id": "04c25b37",
   "metadata": {
    "papermill": {
     "duration": 0.014256,
     "end_time": "2022-08-14T03:16:48.034172",
     "exception": false,
     "start_time": "2022-08-14T03:16:48.019916",
     "status": "completed"
    },
    "tags": []
   },
   "source": [
    "### <div style=\"text-align: left; background-color: #A0D992; font-family:Cursive; color: #125E12; padding: 15px; line-height:1;border-radius:1px; margin-bottom: 0em\">1. Import Libraries<div>"
   ]
  },
  {
   "cell_type": "code",
   "execution_count": 1,
   "id": "ba3f90c8",
   "metadata": {
    "execution": {
     "iopub.execute_input": "2022-08-14T03:16:48.066654Z",
     "iopub.status.busy": "2022-08-14T03:16:48.065230Z",
     "iopub.status.idle": "2022-08-14T03:16:50.635793Z",
     "shell.execute_reply": "2022-08-14T03:16:50.634392Z"
    },
    "papermill": {
     "duration": 2.591004,
     "end_time": "2022-08-14T03:16:50.639528",
     "exception": false,
     "start_time": "2022-08-14T03:16:48.048524",
     "status": "completed"
    },
    "tags": []
   },
   "outputs": [],
   "source": [
    "# data\n",
    "import pandas as pd\n",
    "import numpy as np\n",
    "\n",
    "# visualization\n",
    "import matplotlib\n",
    "import matplotlib.pyplot as plt\n",
    "import seaborn as sns\n",
    "import plotly.express as px\n",
    "import plotly.graph_objects as go\n",
    "from plotly.subplots import make_subplots\n",
    "\n",
    "# styling\n",
    "%matplotlib inline\n",
    "sns.set_style('darkgrid')\n",
    "matplotlib.rcParams['figure.facecolor'] = '#00000000'\n",
    "matplotlib.rcParams['figure.facecolor'] = '#00000000'\n",
    "\n",
    "import warnings\n",
    "warnings.filterwarnings(\"ignore\")"
   ]
  },
  {
   "cell_type": "markdown",
   "id": "11c2ffc2",
   "metadata": {
    "papermill": {
     "duration": 0.01413,
     "end_time": "2022-08-14T03:16:50.668582",
     "exception": false,
     "start_time": "2022-08-14T03:16:50.654452",
     "status": "completed"
    },
    "tags": []
   },
   "source": [
    "### <div style=\"text-align: left; background-color: #A0D992; font-family:Cursive; color: #125E12; padding: 15px; line-height:1;border-radius:1px; margin-bottom: 0em\">2. Read Dataset<div>"
   ]
  },
  {
   "cell_type": "code",
   "execution_count": 2,
   "id": "3052a1f8",
   "metadata": {
    "execution": {
     "iopub.execute_input": "2022-08-14T03:16:50.699879Z",
     "iopub.status.busy": "2022-08-14T03:16:50.699065Z",
     "iopub.status.idle": "2022-08-14T03:16:50.724619Z",
     "shell.execute_reply": "2022-08-14T03:16:50.723369Z"
    },
    "papermill": {
     "duration": 0.04495,
     "end_time": "2022-08-14T03:16:50.728027",
     "exception": false,
     "start_time": "2022-08-14T03:16:50.683077",
     "status": "completed"
    },
    "tags": []
   },
   "outputs": [],
   "source": [
    "df = pd.read_csv('../input/top-youtube-channels-data/Top YouTube Channels Data .csv')"
   ]
  },
  {
   "cell_type": "markdown",
   "id": "c2a645c7",
   "metadata": {
    "papermill": {
     "duration": 0.014139,
     "end_time": "2022-08-14T03:16:50.758245",
     "exception": false,
     "start_time": "2022-08-14T03:16:50.744106",
     "status": "completed"
    },
    "tags": []
   },
   "source": [
    "### <div style=\"text-align: left; background-color: #A0D992; font-family:Cursive; color: #125E12; padding: 15px; line-height:1;border-radius:1px; margin-bottom: 0em\">3. Data cleaning<div>"
   ]
  },
  {
   "cell_type": "code",
   "execution_count": 3,
   "id": "30e1721e",
   "metadata": {
    "execution": {
     "iopub.execute_input": "2022-08-14T03:16:50.788839Z",
     "iopub.status.busy": "2022-08-14T03:16:50.788068Z",
     "iopub.status.idle": "2022-08-14T03:16:50.825181Z",
     "shell.execute_reply": "2022-08-14T03:16:50.823731Z"
    },
    "papermill": {
     "duration": 0.056419,
     "end_time": "2022-08-14T03:16:50.828916",
     "exception": false,
     "start_time": "2022-08-14T03:16:50.772497",
     "status": "completed"
    },
    "tags": []
   },
   "outputs": [
    {
     "data": {
      "text/html": [
       "<div>\n",
       "<style scoped>\n",
       "    .dataframe tbody tr th:only-of-type {\n",
       "        vertical-align: middle;\n",
       "    }\n",
       "\n",
       "    .dataframe tbody tr th {\n",
       "        vertical-align: top;\n",
       "    }\n",
       "\n",
       "    .dataframe thead th {\n",
       "        text-align: right;\n",
       "    }\n",
       "</style>\n",
       "<table border=\"1\" class=\"dataframe\">\n",
       "  <thead>\n",
       "    <tr style=\"text-align: right;\">\n",
       "      <th></th>\n",
       "      <th>rank</th>\n",
       "      <th>youtuber</th>\n",
       "      <th>subscribers</th>\n",
       "      <th>video views</th>\n",
       "      <th>video count</th>\n",
       "      <th>category</th>\n",
       "      <th>started</th>\n",
       "    </tr>\n",
       "  </thead>\n",
       "  <tbody>\n",
       "    <tr>\n",
       "      <th>0</th>\n",
       "      <td>1</td>\n",
       "      <td>T-Series</td>\n",
       "      <td>213000000</td>\n",
       "      <td>188,073,919,029</td>\n",
       "      <td>16708.0</td>\n",
       "      <td>Music</td>\n",
       "      <td>2006</td>\n",
       "    </tr>\n",
       "    <tr>\n",
       "      <th>1</th>\n",
       "      <td>2</td>\n",
       "      <td>YouTube Movies</td>\n",
       "      <td>150000000</td>\n",
       "      <td>167,122,746,349</td>\n",
       "      <td>NaN</td>\n",
       "      <td>Film &amp; Animation</td>\n",
       "      <td>2015</td>\n",
       "    </tr>\n",
       "    <tr>\n",
       "      <th>2</th>\n",
       "      <td>3</td>\n",
       "      <td>Cocomelon - Nursery Rhymes</td>\n",
       "      <td>133000000</td>\n",
       "      <td>126,822,520,940</td>\n",
       "      <td>751.0</td>\n",
       "      <td>Education</td>\n",
       "      <td>2006</td>\n",
       "    </tr>\n",
       "    <tr>\n",
       "      <th>3</th>\n",
       "      <td>4</td>\n",
       "      <td>SET India</td>\n",
       "      <td>131000000</td>\n",
       "      <td>101,541,977,714</td>\n",
       "      <td>78334.0</td>\n",
       "      <td>Shows</td>\n",
       "      <td>2006</td>\n",
       "    </tr>\n",
       "    <tr>\n",
       "      <th>4</th>\n",
       "      <td>5</td>\n",
       "      <td>Music</td>\n",
       "      <td>116000000</td>\n",
       "      <td>78,437,871,689</td>\n",
       "      <td>NaN</td>\n",
       "      <td>Music</td>\n",
       "      <td>2013</td>\n",
       "    </tr>\n",
       "    <tr>\n",
       "      <th>...</th>\n",
       "      <td>...</td>\n",
       "      <td>...</td>\n",
       "      <td>...</td>\n",
       "      <td>...</td>\n",
       "      <td>...</td>\n",
       "      <td>...</td>\n",
       "      <td>...</td>\n",
       "    </tr>\n",
       "    <tr>\n",
       "      <th>95</th>\n",
       "      <td>96</td>\n",
       "      <td>Markiplier</td>\n",
       "      <td>32600000</td>\n",
       "      <td>18,011,837,263</td>\n",
       "      <td>5129.0</td>\n",
       "      <td>Gaming</td>\n",
       "      <td>2012</td>\n",
       "    </tr>\n",
       "    <tr>\n",
       "      <th>96</th>\n",
       "      <td>97</td>\n",
       "      <td>Like Nastya ESP</td>\n",
       "      <td>32600000</td>\n",
       "      <td>15,144,858,210</td>\n",
       "      <td>584.0</td>\n",
       "      <td>Entertainment</td>\n",
       "      <td>2017</td>\n",
       "    </tr>\n",
       "    <tr>\n",
       "      <th>97</th>\n",
       "      <td>98</td>\n",
       "      <td>Ryan's World</td>\n",
       "      <td>32400000</td>\n",
       "      <td>51,312,603,726</td>\n",
       "      <td>2155.0</td>\n",
       "      <td>Entertainment</td>\n",
       "      <td>2015</td>\n",
       "    </tr>\n",
       "    <tr>\n",
       "      <th>98</th>\n",
       "      <td>99</td>\n",
       "      <td>ABP News</td>\n",
       "      <td>32300000</td>\n",
       "      <td>9,850,740,503</td>\n",
       "      <td>209351.0</td>\n",
       "      <td>People &amp; Blogs</td>\n",
       "      <td>2012</td>\n",
       "    </tr>\n",
       "    <tr>\n",
       "      <th>99</th>\n",
       "      <td>100</td>\n",
       "      <td>Desi Music Factory</td>\n",
       "      <td>32200000</td>\n",
       "      <td>9,115,577,588</td>\n",
       "      <td>122.0</td>\n",
       "      <td>Music</td>\n",
       "      <td>2014</td>\n",
       "    </tr>\n",
       "  </tbody>\n",
       "</table>\n",
       "<p>100 rows × 7 columns</p>\n",
       "</div>"
      ],
      "text/plain": [
       "    rank                      youtuber  subscribers      video views   \\\n",
       "0       1                    T-Series      213000000  188,073,919,029   \n",
       "1       2              YouTube Movies      150000000  167,122,746,349   \n",
       "2       3  Cocomelon - Nursery Rhymes      133000000  126,822,520,940   \n",
       "3       4                   SET India      131000000  101,541,977,714   \n",
       "4       5                       Music      116000000   78,437,871,689   \n",
       "..    ...                          ...           ...              ...   \n",
       "95     96                  Markiplier       32600000   18,011,837,263   \n",
       "96     97             Like Nastya ESP       32600000   15,144,858,210   \n",
       "97     98                Ryan's World       32400000   51,312,603,726   \n",
       "98     99                    ABP News       32300000    9,850,740,503   \n",
       "99    100          Desi Music Factory       32200000    9,115,577,588   \n",
       "\n",
       "    video count           category   started   \n",
       "0        16708.0             Music       2006  \n",
       "1            NaN  Film & Animation       2015  \n",
       "2          751.0         Education       2006  \n",
       "3        78334.0             Shows       2006  \n",
       "4            NaN             Music       2013  \n",
       "..           ...                ...       ...  \n",
       "95        5129.0            Gaming       2012  \n",
       "96         584.0     Entertainment       2017  \n",
       "97        2155.0     Entertainment       2015  \n",
       "98      209351.0    People & Blogs       2012  \n",
       "99         122.0             Music       2014  \n",
       "\n",
       "[100 rows x 7 columns]"
      ]
     },
     "execution_count": 3,
     "metadata": {},
     "output_type": "execute_result"
    }
   ],
   "source": [
    "df"
   ]
  },
  {
   "cell_type": "markdown",
   "id": "6fd52a30",
   "metadata": {
    "papermill": {
     "duration": 0.014516,
     "end_time": "2022-08-14T03:16:50.858950",
     "exception": false,
     "start_time": "2022-08-14T03:16:50.844434",
     "status": "completed"
    },
    "tags": []
   },
   "source": [
    "<h2 style=\"color:#0B5394;font-size: 1em \"><b> Handle missing values"
   ]
  },
  {
   "cell_type": "markdown",
   "id": "f31d0012",
   "metadata": {
    "papermill": {
     "duration": 0.017682,
     "end_time": "2022-08-14T03:16:50.891565",
     "exception": false,
     "start_time": "2022-08-14T03:16:50.873883",
     "status": "completed"
    },
    "tags": []
   },
   "source": [
    "We will explore numbers of NULL values or missing values the dataset has."
   ]
  },
  {
   "cell_type": "code",
   "execution_count": 4,
   "id": "25ceb287",
   "metadata": {
    "execution": {
     "iopub.execute_input": "2022-08-14T03:16:50.926306Z",
     "iopub.status.busy": "2022-08-14T03:16:50.925356Z",
     "iopub.status.idle": "2022-08-14T03:16:50.937042Z",
     "shell.execute_reply": "2022-08-14T03:16:50.935667Z"
    },
    "papermill": {
     "duration": 0.031072,
     "end_time": "2022-08-14T03:16:50.939789",
     "exception": false,
     "start_time": "2022-08-14T03:16:50.908717",
     "status": "completed"
    },
    "tags": []
   },
   "outputs": [
    {
     "data": {
      "text/plain": [
       "rank            0\n",
       "youtuber        0\n",
       "subscribers     0\n",
       "video views     0\n",
       "video count     5\n",
       "category        0\n",
       "started         0\n",
       "dtype: int64"
      ]
     },
     "execution_count": 4,
     "metadata": {},
     "output_type": "execute_result"
    }
   ],
   "source": [
    "df.isnull().sum()"
   ]
  },
  {
   "cell_type": "markdown",
   "id": "45d14bd8",
   "metadata": {
    "papermill": {
     "duration": 0.01419,
     "end_time": "2022-08-14T03:16:50.968905",
     "exception": false,
     "start_time": "2022-08-14T03:16:50.954715",
     "status": "completed"
    },
    "tags": []
   },
   "source": [
    "Because the 'video count' column has many missing values, I decided to drop it."
   ]
  },
  {
   "cell_type": "code",
   "execution_count": 5,
   "id": "78964bcb",
   "metadata": {
    "execution": {
     "iopub.execute_input": "2022-08-14T03:16:51.000735Z",
     "iopub.status.busy": "2022-08-14T03:16:50.999606Z",
     "iopub.status.idle": "2022-08-14T03:16:51.011827Z",
     "shell.execute_reply": "2022-08-14T03:16:51.010237Z"
    },
    "papermill": {
     "duration": 0.03208,
     "end_time": "2022-08-14T03:16:51.015422",
     "exception": false,
     "start_time": "2022-08-14T03:16:50.983342",
     "status": "completed"
    },
    "tags": []
   },
   "outputs": [],
   "source": [
    "df.dropna(axis=0,inplace=True)"
   ]
  },
  {
   "cell_type": "code",
   "execution_count": 6,
   "id": "b36134fc",
   "metadata": {
    "execution": {
     "iopub.execute_input": "2022-08-14T03:16:51.049732Z",
     "iopub.status.busy": "2022-08-14T03:16:51.048389Z",
     "iopub.status.idle": "2022-08-14T03:16:51.055910Z",
     "shell.execute_reply": "2022-08-14T03:16:51.054771Z"
    },
    "papermill": {
     "duration": 0.026724,
     "end_time": "2022-08-14T03:16:51.058498",
     "exception": false,
     "start_time": "2022-08-14T03:16:51.031774",
     "status": "completed"
    },
    "tags": []
   },
   "outputs": [
    {
     "data": {
      "text/plain": [
       "(95, 7)"
      ]
     },
     "execution_count": 6,
     "metadata": {},
     "output_type": "execute_result"
    }
   ],
   "source": [
    "df.shape"
   ]
  },
  {
   "cell_type": "markdown",
   "id": "d68d3c59",
   "metadata": {
    "papermill": {
     "duration": 0.015351,
     "end_time": "2022-08-14T03:16:51.089277",
     "exception": false,
     "start_time": "2022-08-14T03:16:51.073926",
     "status": "completed"
    },
    "tags": []
   },
   "source": [
    "After droping the rows with missing values , the dataset has 95 rows and 7 columns to work upon."
   ]
  },
  {
   "cell_type": "markdown",
   "id": "5d24c928",
   "metadata": {
    "papermill": {
     "duration": 0.013979,
     "end_time": "2022-08-14T03:16:51.117842",
     "exception": false,
     "start_time": "2022-08-14T03:16:51.103863",
     "status": "completed"
    },
    "tags": []
   },
   "source": [
    "<h2 style=\"color:#0B5394;font-size: 1em \"><b>Convert datatype of the columns"
   ]
  },
  {
   "cell_type": "code",
   "execution_count": 7,
   "id": "4bce6183",
   "metadata": {
    "execution": {
     "iopub.execute_input": "2022-08-14T03:16:51.150444Z",
     "iopub.status.busy": "2022-08-14T03:16:51.149387Z",
     "iopub.status.idle": "2022-08-14T03:16:51.157562Z",
     "shell.execute_reply": "2022-08-14T03:16:51.156533Z"
    },
    "papermill": {
     "duration": 0.027236,
     "end_time": "2022-08-14T03:16:51.159931",
     "exception": false,
     "start_time": "2022-08-14T03:16:51.132695",
     "status": "completed"
    },
    "tags": []
   },
   "outputs": [
    {
     "data": {
      "text/plain": [
       "Index(['rank ', 'youtuber', 'subscribers ', 'video views ', 'video count ',\n",
       "       'category ', 'started '],\n",
       "      dtype='object')"
      ]
     },
     "execution_count": 7,
     "metadata": {},
     "output_type": "execute_result"
    }
   ],
   "source": [
    "df.columns"
   ]
  },
  {
   "cell_type": "markdown",
   "id": "6c332fd0",
   "metadata": {
    "papermill": {
     "duration": 0.013953,
     "end_time": "2022-08-14T03:16:51.188605",
     "exception": false,
     "start_time": "2022-08-14T03:16:51.174652",
     "status": "completed"
    },
    "tags": []
   },
   "source": [
    "* <b>Edit the names of the columns with the last space</b>"
   ]
  },
  {
   "cell_type": "code",
   "execution_count": 8,
   "id": "395603ce",
   "metadata": {
    "execution": {
     "iopub.execute_input": "2022-08-14T03:16:51.220652Z",
     "iopub.status.busy": "2022-08-14T03:16:51.219300Z",
     "iopub.status.idle": "2022-08-14T03:16:51.230585Z",
     "shell.execute_reply": "2022-08-14T03:16:51.229006Z"
    },
    "papermill": {
     "duration": 0.030199,
     "end_time": "2022-08-14T03:16:51.233263",
     "exception": false,
     "start_time": "2022-08-14T03:16:51.203064",
     "status": "completed"
    },
    "tags": []
   },
   "outputs": [
    {
     "data": {
      "text/plain": [
       "Index(['rank', 'youtuber', 'subscribers', 'video views', 'video count',\n",
       "       'category', 'started'],\n",
       "      dtype='object')"
      ]
     },
     "execution_count": 8,
     "metadata": {},
     "output_type": "execute_result"
    }
   ],
   "source": [
    "df.rename(columns=lambda x: x.strip() , inplace = True)\n",
    "df.columns"
   ]
  },
  {
   "cell_type": "code",
   "execution_count": 9,
   "id": "76f7bb3d",
   "metadata": {
    "execution": {
     "iopub.execute_input": "2022-08-14T03:16:51.265664Z",
     "iopub.status.busy": "2022-08-14T03:16:51.264707Z",
     "iopub.status.idle": "2022-08-14T03:16:51.275518Z",
     "shell.execute_reply": "2022-08-14T03:16:51.274202Z"
    },
    "papermill": {
     "duration": 0.030332,
     "end_time": "2022-08-14T03:16:51.278226",
     "exception": false,
     "start_time": "2022-08-14T03:16:51.247894",
     "status": "completed"
    },
    "tags": []
   },
   "outputs": [
    {
     "data": {
      "text/plain": [
       "rank             int64\n",
       "youtuber        object\n",
       "subscribers      int64\n",
       "video views     object\n",
       "video count    float64\n",
       "category        object\n",
       "started          int64\n",
       "dtype: object"
      ]
     },
     "execution_count": 9,
     "metadata": {},
     "output_type": "execute_result"
    }
   ],
   "source": [
    "df.dtypes"
   ]
  },
  {
   "cell_type": "markdown",
   "id": "f4d99f59",
   "metadata": {
    "papermill": {
     "duration": 0.014678,
     "end_time": "2022-08-14T03:16:51.308510",
     "exception": false,
     "start_time": "2022-08-14T03:16:51.293832",
     "status": "completed"
    },
    "tags": []
   },
   "source": [
    "* <b>Edit data type</b>"
   ]
  },
  {
   "cell_type": "code",
   "execution_count": 10,
   "id": "fa9c03c7",
   "metadata": {
    "execution": {
     "iopub.execute_input": "2022-08-14T03:16:51.341349Z",
     "iopub.status.busy": "2022-08-14T03:16:51.340874Z",
     "iopub.status.idle": "2022-08-14T03:16:51.352606Z",
     "shell.execute_reply": "2022-08-14T03:16:51.351569Z"
    },
    "papermill": {
     "duration": 0.03123,
     "end_time": "2022-08-14T03:16:51.355456",
     "exception": false,
     "start_time": "2022-08-14T03:16:51.324226",
     "status": "completed"
    },
    "tags": []
   },
   "outputs": [],
   "source": [
    "df['video views']=df['video views'].str.replace(',','')\n",
    "df['video views']=df['video views'].astype('int64')\n",
    "df['video count']=df['video count'].astype(int)"
   ]
  },
  {
   "cell_type": "markdown",
   "id": "17d5d35f",
   "metadata": {
    "papermill": {
     "duration": 0.014675,
     "end_time": "2022-08-14T03:16:51.385565",
     "exception": false,
     "start_time": "2022-08-14T03:16:51.370890",
     "status": "completed"
    },
    "tags": []
   },
   "source": [
    "### <div style=\"text-align: left; background-color: #A0D992; font-family:Cursive; color: #125E12; padding: 15px; line-height:1;border-radius:1px; margin-bottom: 0em\">4. Exploratory analysis<div>"
   ]
  },
  {
   "cell_type": "code",
   "execution_count": 11,
   "id": "79e10b38",
   "metadata": {
    "execution": {
     "iopub.execute_input": "2022-08-14T03:16:51.419577Z",
     "iopub.status.busy": "2022-08-14T03:16:51.417933Z",
     "iopub.status.idle": "2022-08-14T03:16:51.439503Z",
     "shell.execute_reply": "2022-08-14T03:16:51.438122Z"
    },
    "papermill": {
     "duration": 0.041789,
     "end_time": "2022-08-14T03:16:51.442598",
     "exception": false,
     "start_time": "2022-08-14T03:16:51.400809",
     "status": "completed"
    },
    "tags": []
   },
   "outputs": [
    {
     "data": {
      "text/html": [
       "<div>\n",
       "<style scoped>\n",
       "    .dataframe tbody tr th:only-of-type {\n",
       "        vertical-align: middle;\n",
       "    }\n",
       "\n",
       "    .dataframe tbody tr th {\n",
       "        vertical-align: top;\n",
       "    }\n",
       "\n",
       "    .dataframe thead th {\n",
       "        text-align: right;\n",
       "    }\n",
       "</style>\n",
       "<table border=\"1\" class=\"dataframe\">\n",
       "  <thead>\n",
       "    <tr style=\"text-align: right;\">\n",
       "      <th></th>\n",
       "      <th>rank</th>\n",
       "      <th>youtuber</th>\n",
       "      <th>subscribers</th>\n",
       "      <th>video views</th>\n",
       "      <th>video count</th>\n",
       "      <th>category</th>\n",
       "      <th>started</th>\n",
       "    </tr>\n",
       "  </thead>\n",
       "  <tbody>\n",
       "    <tr>\n",
       "      <th>0</th>\n",
       "      <td>1</td>\n",
       "      <td>T-Series</td>\n",
       "      <td>213000000</td>\n",
       "      <td>188073919029</td>\n",
       "      <td>16708</td>\n",
       "      <td>Music</td>\n",
       "      <td>2006</td>\n",
       "    </tr>\n",
       "    <tr>\n",
       "      <th>2</th>\n",
       "      <td>3</td>\n",
       "      <td>Cocomelon - Nursery Rhymes</td>\n",
       "      <td>133000000</td>\n",
       "      <td>126822520940</td>\n",
       "      <td>751</td>\n",
       "      <td>Education</td>\n",
       "      <td>2006</td>\n",
       "    </tr>\n",
       "    <tr>\n",
       "      <th>3</th>\n",
       "      <td>4</td>\n",
       "      <td>SET India</td>\n",
       "      <td>131000000</td>\n",
       "      <td>101541977714</td>\n",
       "      <td>78334</td>\n",
       "      <td>Shows</td>\n",
       "      <td>2006</td>\n",
       "    </tr>\n",
       "    <tr>\n",
       "      <th>5</th>\n",
       "      <td>6</td>\n",
       "      <td>PewDiePie</td>\n",
       "      <td>111000000</td>\n",
       "      <td>28260779633</td>\n",
       "      <td>4472</td>\n",
       "      <td>Gaming</td>\n",
       "      <td>2010</td>\n",
       "    </tr>\n",
       "    <tr>\n",
       "      <th>6</th>\n",
       "      <td>7</td>\n",
       "      <td>MrBeast</td>\n",
       "      <td>93900000</td>\n",
       "      <td>15417304461</td>\n",
       "      <td>721</td>\n",
       "      <td>Entertainment</td>\n",
       "      <td>2012</td>\n",
       "    </tr>\n",
       "    <tr>\n",
       "      <th>...</th>\n",
       "      <td>...</td>\n",
       "      <td>...</td>\n",
       "      <td>...</td>\n",
       "      <td>...</td>\n",
       "      <td>...</td>\n",
       "      <td>...</td>\n",
       "      <td>...</td>\n",
       "    </tr>\n",
       "    <tr>\n",
       "      <th>95</th>\n",
       "      <td>96</td>\n",
       "      <td>Markiplier</td>\n",
       "      <td>32600000</td>\n",
       "      <td>18011837263</td>\n",
       "      <td>5129</td>\n",
       "      <td>Gaming</td>\n",
       "      <td>2012</td>\n",
       "    </tr>\n",
       "    <tr>\n",
       "      <th>96</th>\n",
       "      <td>97</td>\n",
       "      <td>Like Nastya ESP</td>\n",
       "      <td>32600000</td>\n",
       "      <td>15144858210</td>\n",
       "      <td>584</td>\n",
       "      <td>Entertainment</td>\n",
       "      <td>2017</td>\n",
       "    </tr>\n",
       "    <tr>\n",
       "      <th>97</th>\n",
       "      <td>98</td>\n",
       "      <td>Ryan's World</td>\n",
       "      <td>32400000</td>\n",
       "      <td>51312603726</td>\n",
       "      <td>2155</td>\n",
       "      <td>Entertainment</td>\n",
       "      <td>2015</td>\n",
       "    </tr>\n",
       "    <tr>\n",
       "      <th>98</th>\n",
       "      <td>99</td>\n",
       "      <td>ABP News</td>\n",
       "      <td>32300000</td>\n",
       "      <td>9850740503</td>\n",
       "      <td>209351</td>\n",
       "      <td>People &amp; Blogs</td>\n",
       "      <td>2012</td>\n",
       "    </tr>\n",
       "    <tr>\n",
       "      <th>99</th>\n",
       "      <td>100</td>\n",
       "      <td>Desi Music Factory</td>\n",
       "      <td>32200000</td>\n",
       "      <td>9115577588</td>\n",
       "      <td>122</td>\n",
       "      <td>Music</td>\n",
       "      <td>2014</td>\n",
       "    </tr>\n",
       "  </tbody>\n",
       "</table>\n",
       "<p>95 rows × 7 columns</p>\n",
       "</div>"
      ],
      "text/plain": [
       "    rank                     youtuber  subscribers   video views  video count  \\\n",
       "0      1                    T-Series     213000000  188073919029        16708   \n",
       "2      3  Cocomelon - Nursery Rhymes     133000000  126822520940          751   \n",
       "3      4                   SET India     131000000  101541977714        78334   \n",
       "5      6                   PewDiePie     111000000   28260779633         4472   \n",
       "6      7                     MrBeast      93900000   15417304461          721   \n",
       "..   ...                          ...          ...           ...          ...   \n",
       "95    96                  Markiplier      32600000   18011837263         5129   \n",
       "96    97             Like Nastya ESP      32600000   15144858210          584   \n",
       "97    98                Ryan's World      32400000   51312603726         2155   \n",
       "98    99                    ABP News      32300000    9850740503       209351   \n",
       "99   100          Desi Music Factory      32200000    9115577588          122   \n",
       "\n",
       "           category  started  \n",
       "0            Music      2006  \n",
       "2        Education      2006  \n",
       "3            Shows      2006  \n",
       "5           Gaming      2010  \n",
       "6    Entertainment      2012  \n",
       "..              ...      ...  \n",
       "95          Gaming      2012  \n",
       "96   Entertainment      2017  \n",
       "97   Entertainment      2015  \n",
       "98  People & Blogs      2012  \n",
       "99           Music      2014  \n",
       "\n",
       "[95 rows x 7 columns]"
      ]
     },
     "execution_count": 11,
     "metadata": {},
     "output_type": "execute_result"
    }
   ],
   "source": [
    "df"
   ]
  },
  {
   "cell_type": "code",
   "execution_count": 12,
   "id": "3c66294e",
   "metadata": {
    "execution": {
     "iopub.execute_input": "2022-08-14T03:16:51.476572Z",
     "iopub.status.busy": "2022-08-14T03:16:51.475221Z",
     "iopub.status.idle": "2022-08-14T03:16:51.483138Z",
     "shell.execute_reply": "2022-08-14T03:16:51.482117Z"
    },
    "papermill": {
     "duration": 0.027264,
     "end_time": "2022-08-14T03:16:51.485950",
     "exception": false,
     "start_time": "2022-08-14T03:16:51.458686",
     "status": "completed"
    },
    "tags": []
   },
   "outputs": [
    {
     "data": {
      "text/plain": [
       "(95, 7)"
      ]
     },
     "execution_count": 12,
     "metadata": {},
     "output_type": "execute_result"
    }
   ],
   "source": [
    "df.shape"
   ]
  },
  {
   "cell_type": "code",
   "execution_count": 13,
   "id": "ea78bc55",
   "metadata": {
    "execution": {
     "iopub.execute_input": "2022-08-14T03:16:51.521850Z",
     "iopub.status.busy": "2022-08-14T03:16:51.520892Z",
     "iopub.status.idle": "2022-08-14T03:16:51.535062Z",
     "shell.execute_reply": "2022-08-14T03:16:51.534070Z"
    },
    "papermill": {
     "duration": 0.035791,
     "end_time": "2022-08-14T03:16:51.537834",
     "exception": false,
     "start_time": "2022-08-14T03:16:51.502043",
     "status": "completed"
    },
    "tags": []
   },
   "outputs": [
    {
     "data": {
      "text/html": [
       "<div>\n",
       "<style scoped>\n",
       "    .dataframe tbody tr th:only-of-type {\n",
       "        vertical-align: middle;\n",
       "    }\n",
       "\n",
       "    .dataframe tbody tr th {\n",
       "        vertical-align: top;\n",
       "    }\n",
       "\n",
       "    .dataframe thead th {\n",
       "        text-align: right;\n",
       "    }\n",
       "</style>\n",
       "<table border=\"1\" class=\"dataframe\">\n",
       "  <thead>\n",
       "    <tr style=\"text-align: right;\">\n",
       "      <th></th>\n",
       "      <th>rank</th>\n",
       "      <th>youtuber</th>\n",
       "      <th>subscribers</th>\n",
       "      <th>video views</th>\n",
       "      <th>video count</th>\n",
       "      <th>category</th>\n",
       "      <th>started</th>\n",
       "    </tr>\n",
       "  </thead>\n",
       "  <tbody>\n",
       "    <tr>\n",
       "      <th>0</th>\n",
       "      <td>1</td>\n",
       "      <td>T-Series</td>\n",
       "      <td>213000000</td>\n",
       "      <td>188073919029</td>\n",
       "      <td>16708</td>\n",
       "      <td>Music</td>\n",
       "      <td>2006</td>\n",
       "    </tr>\n",
       "    <tr>\n",
       "      <th>2</th>\n",
       "      <td>3</td>\n",
       "      <td>Cocomelon - Nursery Rhymes</td>\n",
       "      <td>133000000</td>\n",
       "      <td>126822520940</td>\n",
       "      <td>751</td>\n",
       "      <td>Education</td>\n",
       "      <td>2006</td>\n",
       "    </tr>\n",
       "    <tr>\n",
       "      <th>3</th>\n",
       "      <td>4</td>\n",
       "      <td>SET India</td>\n",
       "      <td>131000000</td>\n",
       "      <td>101541977714</td>\n",
       "      <td>78334</td>\n",
       "      <td>Shows</td>\n",
       "      <td>2006</td>\n",
       "    </tr>\n",
       "    <tr>\n",
       "      <th>5</th>\n",
       "      <td>6</td>\n",
       "      <td>PewDiePie</td>\n",
       "      <td>111000000</td>\n",
       "      <td>28260779633</td>\n",
       "      <td>4472</td>\n",
       "      <td>Gaming</td>\n",
       "      <td>2010</td>\n",
       "    </tr>\n",
       "    <tr>\n",
       "      <th>6</th>\n",
       "      <td>7</td>\n",
       "      <td>MrBeast</td>\n",
       "      <td>93900000</td>\n",
       "      <td>15417304461</td>\n",
       "      <td>721</td>\n",
       "      <td>Entertainment</td>\n",
       "      <td>2012</td>\n",
       "    </tr>\n",
       "  </tbody>\n",
       "</table>\n",
       "</div>"
      ],
      "text/plain": [
       "   rank                     youtuber  subscribers   video views  video count  \\\n",
       "0     1                    T-Series     213000000  188073919029        16708   \n",
       "2     3  Cocomelon - Nursery Rhymes     133000000  126822520940          751   \n",
       "3     4                   SET India     131000000  101541977714        78334   \n",
       "5     6                   PewDiePie     111000000   28260779633         4472   \n",
       "6     7                     MrBeast      93900000   15417304461          721   \n",
       "\n",
       "         category  started  \n",
       "0          Music      2006  \n",
       "2      Education      2006  \n",
       "3          Shows      2006  \n",
       "5         Gaming      2010  \n",
       "6  Entertainment      2012  "
      ]
     },
     "execution_count": 13,
     "metadata": {},
     "output_type": "execute_result"
    }
   ],
   "source": [
    "df.head()"
   ]
  },
  {
   "cell_type": "code",
   "execution_count": 14,
   "id": "747b1c7f",
   "metadata": {
    "execution": {
     "iopub.execute_input": "2022-08-14T03:16:51.574371Z",
     "iopub.status.busy": "2022-08-14T03:16:51.572836Z",
     "iopub.status.idle": "2022-08-14T03:16:51.582671Z",
     "shell.execute_reply": "2022-08-14T03:16:51.581608Z"
    },
    "papermill": {
     "duration": 0.029946,
     "end_time": "2022-08-14T03:16:51.585331",
     "exception": false,
     "start_time": "2022-08-14T03:16:51.555385",
     "status": "completed"
    },
    "tags": []
   },
   "outputs": [
    {
     "data": {
      "text/plain": [
       "rank            int64\n",
       "youtuber       object\n",
       "subscribers     int64\n",
       "video views     int64\n",
       "video count     int64\n",
       "category       object\n",
       "started         int64\n",
       "dtype: object"
      ]
     },
     "execution_count": 14,
     "metadata": {},
     "output_type": "execute_result"
    }
   ],
   "source": [
    "df.dtypes"
   ]
  },
  {
   "cell_type": "code",
   "execution_count": 15,
   "id": "cca60cb9",
   "metadata": {
    "execution": {
     "iopub.execute_input": "2022-08-14T03:16:51.619357Z",
     "iopub.status.busy": "2022-08-14T03:16:51.618348Z",
     "iopub.status.idle": "2022-08-14T03:16:51.626339Z",
     "shell.execute_reply": "2022-08-14T03:16:51.625365Z"
    },
    "papermill": {
     "duration": 0.027847,
     "end_time": "2022-08-14T03:16:51.629127",
     "exception": false,
     "start_time": "2022-08-14T03:16:51.601280",
     "status": "completed"
    },
    "tags": []
   },
   "outputs": [
    {
     "data": {
      "text/plain": [
       "Index(['rank', 'youtuber', 'subscribers', 'video views', 'video count',\n",
       "       'category', 'started'],\n",
       "      dtype='object')"
      ]
     },
     "execution_count": 15,
     "metadata": {},
     "output_type": "execute_result"
    }
   ],
   "source": [
    "df.columns"
   ]
  },
  {
   "cell_type": "code",
   "execution_count": 16,
   "id": "918fc4b2",
   "metadata": {
    "execution": {
     "iopub.execute_input": "2022-08-14T03:16:51.663919Z",
     "iopub.status.busy": "2022-08-14T03:16:51.663425Z",
     "iopub.status.idle": "2022-08-14T03:16:51.686135Z",
     "shell.execute_reply": "2022-08-14T03:16:51.684632Z"
    },
    "papermill": {
     "duration": 0.044556,
     "end_time": "2022-08-14T03:16:51.689955",
     "exception": false,
     "start_time": "2022-08-14T03:16:51.645399",
     "status": "completed"
    },
    "tags": []
   },
   "outputs": [
    {
     "name": "stdout",
     "output_type": "stream",
     "text": [
      "<class 'pandas.core.frame.DataFrame'>\n",
      "Int64Index: 95 entries, 0 to 99\n",
      "Data columns (total 7 columns):\n",
      " #   Column       Non-Null Count  Dtype \n",
      "---  ------       --------------  ----- \n",
      " 0   rank         95 non-null     int64 \n",
      " 1   youtuber     95 non-null     object\n",
      " 2   subscribers  95 non-null     int64 \n",
      " 3   video views  95 non-null     int64 \n",
      " 4   video count  95 non-null     int64 \n",
      " 5   category     95 non-null     object\n",
      " 6   started      95 non-null     int64 \n",
      "dtypes: int64(5), object(2)\n",
      "memory usage: 5.9+ KB\n"
     ]
    }
   ],
   "source": [
    "df.info()"
   ]
  },
  {
   "cell_type": "code",
   "execution_count": 17,
   "id": "16b50e3e",
   "metadata": {
    "execution": {
     "iopub.execute_input": "2022-08-14T03:16:51.727329Z",
     "iopub.status.busy": "2022-08-14T03:16:51.726514Z",
     "iopub.status.idle": "2022-08-14T03:16:51.759305Z",
     "shell.execute_reply": "2022-08-14T03:16:51.758345Z"
    },
    "papermill": {
     "duration": 0.054421,
     "end_time": "2022-08-14T03:16:51.761994",
     "exception": false,
     "start_time": "2022-08-14T03:16:51.707573",
     "status": "completed"
    },
    "tags": []
   },
   "outputs": [
    {
     "data": {
      "text/html": [
       "<div>\n",
       "<style scoped>\n",
       "    .dataframe tbody tr th:only-of-type {\n",
       "        vertical-align: middle;\n",
       "    }\n",
       "\n",
       "    .dataframe tbody tr th {\n",
       "        vertical-align: top;\n",
       "    }\n",
       "\n",
       "    .dataframe thead th {\n",
       "        text-align: right;\n",
       "    }\n",
       "</style>\n",
       "<table border=\"1\" class=\"dataframe\">\n",
       "  <thead>\n",
       "    <tr style=\"text-align: right;\">\n",
       "      <th></th>\n",
       "      <th>rank</th>\n",
       "      <th>subscribers</th>\n",
       "      <th>video views</th>\n",
       "      <th>video count</th>\n",
       "      <th>started</th>\n",
       "    </tr>\n",
       "  </thead>\n",
       "  <tbody>\n",
       "    <tr>\n",
       "      <th>count</th>\n",
       "      <td>95.000000</td>\n",
       "      <td>9.500000e+01</td>\n",
       "      <td>9.500000e+01</td>\n",
       "      <td>95.000000</td>\n",
       "      <td>95.000000</td>\n",
       "    </tr>\n",
       "    <tr>\n",
       "      <th>mean</th>\n",
       "      <td>52.021053</td>\n",
       "      <td>5.123263e+07</td>\n",
       "      <td>2.767061e+10</td>\n",
       "      <td>15847.221053</td>\n",
       "      <td>2010.663158</td>\n",
       "    </tr>\n",
       "    <tr>\n",
       "      <th>std</th>\n",
       "      <td>28.246250</td>\n",
       "      <td>2.640947e+07</td>\n",
       "      <td>2.628749e+10</td>\n",
       "      <td>40955.200388</td>\n",
       "      <td>5.612696</td>\n",
       "    </tr>\n",
       "    <tr>\n",
       "      <th>min</th>\n",
       "      <td>1.000000</td>\n",
       "      <td>3.220000e+07</td>\n",
       "      <td>2.647950e+09</td>\n",
       "      <td>45.000000</td>\n",
       "      <td>1970.000000</td>\n",
       "    </tr>\n",
       "    <tr>\n",
       "      <th>25%</th>\n",
       "      <td>28.500000</td>\n",
       "      <td>3.620000e+07</td>\n",
       "      <td>1.456406e+10</td>\n",
       "      <td>393.500000</td>\n",
       "      <td>2007.000000</td>\n",
       "    </tr>\n",
       "    <tr>\n",
       "      <th>50%</th>\n",
       "      <td>52.000000</td>\n",
       "      <td>4.270000e+07</td>\n",
       "      <td>2.088142e+10</td>\n",
       "      <td>1139.000000</td>\n",
       "      <td>2011.000000</td>\n",
       "    </tr>\n",
       "    <tr>\n",
       "      <th>75%</th>\n",
       "      <td>75.500000</td>\n",
       "      <td>5.545000e+07</td>\n",
       "      <td>2.814759e+10</td>\n",
       "      <td>4986.000000</td>\n",
       "      <td>2014.000000</td>\n",
       "    </tr>\n",
       "    <tr>\n",
       "      <th>max</th>\n",
       "      <td>100.000000</td>\n",
       "      <td>2.130000e+08</td>\n",
       "      <td>1.880739e+11</td>\n",
       "      <td>209351.000000</td>\n",
       "      <td>2018.000000</td>\n",
       "    </tr>\n",
       "  </tbody>\n",
       "</table>\n",
       "</div>"
      ],
      "text/plain": [
       "             rank   subscribers   video views    video count      started\n",
       "count   95.000000  9.500000e+01  9.500000e+01      95.000000    95.000000\n",
       "mean    52.021053  5.123263e+07  2.767061e+10   15847.221053  2010.663158\n",
       "std     28.246250  2.640947e+07  2.628749e+10   40955.200388     5.612696\n",
       "min      1.000000  3.220000e+07  2.647950e+09      45.000000  1970.000000\n",
       "25%     28.500000  3.620000e+07  1.456406e+10     393.500000  2007.000000\n",
       "50%     52.000000  4.270000e+07  2.088142e+10    1139.000000  2011.000000\n",
       "75%     75.500000  5.545000e+07  2.814759e+10    4986.000000  2014.000000\n",
       "max    100.000000  2.130000e+08  1.880739e+11  209351.000000  2018.000000"
      ]
     },
     "execution_count": 17,
     "metadata": {},
     "output_type": "execute_result"
    }
   ],
   "source": [
    "df.describe()"
   ]
  },
  {
   "cell_type": "code",
   "execution_count": 18,
   "id": "5b96a542",
   "metadata": {
    "execution": {
     "iopub.execute_input": "2022-08-14T03:16:51.800006Z",
     "iopub.status.busy": "2022-08-14T03:16:51.799240Z",
     "iopub.status.idle": "2022-08-14T03:16:51.811718Z",
     "shell.execute_reply": "2022-08-14T03:16:51.810454Z"
    },
    "papermill": {
     "duration": 0.035107,
     "end_time": "2022-08-14T03:16:51.814868",
     "exception": false,
     "start_time": "2022-08-14T03:16:51.779761",
     "status": "completed"
    },
    "tags": []
   },
   "outputs": [
    {
     "data": {
      "text/plain": [
       "rank           95\n",
       "youtuber       95\n",
       "subscribers    81\n",
       "video views    95\n",
       "video count    95\n",
       "category       13\n",
       "started        15\n",
       "dtype: int64"
      ]
     },
     "execution_count": 18,
     "metadata": {},
     "output_type": "execute_result"
    }
   ],
   "source": [
    "df.nunique()"
   ]
  },
  {
   "cell_type": "markdown",
   "id": "7c422041",
   "metadata": {
    "papermill": {
     "duration": 0.016997,
     "end_time": "2022-08-14T03:16:51.849865",
     "exception": false,
     "start_time": "2022-08-14T03:16:51.832868",
     "status": "completed"
    },
    "tags": []
   },
   "source": [
    "### <div style=\"text-align: left; background-color: #A0D992; font-family:Cursive; color: #125E12; padding: 15px; line-height:1;border-radius:1px; margin-bottom: 0em\">5. Data visualization<div>"
   ]
  },
  {
   "cell_type": "markdown",
   "id": "497e1833",
   "metadata": {
    "papermill": {
     "duration": 0.01662,
     "end_time": "2022-08-14T03:16:51.883878",
     "exception": false,
     "start_time": "2022-08-14T03:16:51.867258",
     "status": "completed"
    },
    "tags": []
   },
   "source": [
    "<h2 style=\"color:#0B5394;font-size: 1em \"><b>Getting unique values of each category"
   ]
  },
  {
   "cell_type": "code",
   "execution_count": 19,
   "id": "d72e7593",
   "metadata": {
    "execution": {
     "iopub.execute_input": "2022-08-14T03:16:51.920270Z",
     "iopub.status.busy": "2022-08-14T03:16:51.919343Z",
     "iopub.status.idle": "2022-08-14T03:16:51.925996Z",
     "shell.execute_reply": "2022-08-14T03:16:51.924562Z"
    },
    "papermill": {
     "duration": 0.0279,
     "end_time": "2022-08-14T03:16:51.928733",
     "exception": false,
     "start_time": "2022-08-14T03:16:51.900833",
     "status": "completed"
    },
    "tags": []
   },
   "outputs": [],
   "source": [
    "from IPython.core.display import HTML\n",
    "\n",
    "#Acceps a list of IpyTable objects and returns a table which contains each IpyTable in a cell\n",
    "def multi_table(table_list):\n",
    "        return HTML('<table><tr style=\"background-color:white;\">' +  ''.join(['<td>' + table._repr_html_() + '</td>' for table in table_list]) +'</tr></table>')"
   ]
  },
  {
   "cell_type": "code",
   "execution_count": 20,
   "id": "3a763df1",
   "metadata": {
    "execution": {
     "iopub.execute_input": "2022-08-14T03:16:51.966890Z",
     "iopub.status.busy": "2022-08-14T03:16:51.965837Z",
     "iopub.status.idle": "2022-08-14T03:16:51.980900Z",
     "shell.execute_reply": "2022-08-14T03:16:51.979546Z"
    },
    "papermill": {
     "duration": 0.037434,
     "end_time": "2022-08-14T03:16:51.983878",
     "exception": false,
     "start_time": "2022-08-14T03:16:51.946444",
     "status": "completed"
    },
    "tags": []
   },
   "outputs": [
    {
     "data": {
      "text/html": [
       "<table><tr style=\"background-color:white;\"><td><div>\n",
       "<style scoped>\n",
       "    .dataframe tbody tr th:only-of-type {\n",
       "        vertical-align: middle;\n",
       "    }\n",
       "\n",
       "    .dataframe tbody tr th {\n",
       "        vertical-align: top;\n",
       "    }\n",
       "\n",
       "    .dataframe thead th {\n",
       "        text-align: right;\n",
       "    }\n",
       "</style>\n",
       "<table border=\"1\" class=\"dataframe\">\n",
       "  <thead>\n",
       "    <tr style=\"text-align: right;\">\n",
       "      <th></th>\n",
       "      <th>category</th>\n",
       "    </tr>\n",
       "  </thead>\n",
       "  <tbody>\n",
       "    <tr>\n",
       "      <th>Music</th>\n",
       "      <td>33</td>\n",
       "    </tr>\n",
       "    <tr>\n",
       "      <th>Entertainment</th>\n",
       "      <td>19</td>\n",
       "    </tr>\n",
       "    <tr>\n",
       "      <th>People &amp; Blogs</th>\n",
       "      <td>10</td>\n",
       "    </tr>\n",
       "    <tr>\n",
       "      <th>Gaming</th>\n",
       "      <td>7</td>\n",
       "    </tr>\n",
       "    <tr>\n",
       "      <th>Education</th>\n",
       "      <td>6</td>\n",
       "    </tr>\n",
       "    <tr>\n",
       "      <th>Shows</th>\n",
       "      <td>4</td>\n",
       "    </tr>\n",
       "    <tr>\n",
       "      <th>Film &amp; Animation</th>\n",
       "      <td>4</td>\n",
       "    </tr>\n",
       "    <tr>\n",
       "      <th>Comedy</th>\n",
       "      <td>4</td>\n",
       "    </tr>\n",
       "    <tr>\n",
       "      <th>Sports</th>\n",
       "      <td>2</td>\n",
       "    </tr>\n",
       "    <tr>\n",
       "      <th>How to &amp; Style</th>\n",
       "      <td>2</td>\n",
       "    </tr>\n",
       "    <tr>\n",
       "      <th>News &amp; Politics</th>\n",
       "      <td>2</td>\n",
       "    </tr>\n",
       "    <tr>\n",
       "      <th>Trailers</th>\n",
       "      <td>1</td>\n",
       "    </tr>\n",
       "    <tr>\n",
       "      <th>Nonprofits &amp; Activism</th>\n",
       "      <td>1</td>\n",
       "    </tr>\n",
       "  </tbody>\n",
       "</table>\n",
       "</div></td><td><div>\n",
       "<style scoped>\n",
       "    .dataframe tbody tr th:only-of-type {\n",
       "        vertical-align: middle;\n",
       "    }\n",
       "\n",
       "    .dataframe tbody tr th {\n",
       "        vertical-align: top;\n",
       "    }\n",
       "\n",
       "    .dataframe thead th {\n",
       "        text-align: right;\n",
       "    }\n",
       "</style>\n",
       "<table border=\"1\" class=\"dataframe\">\n",
       "  <thead>\n",
       "    <tr style=\"text-align: right;\">\n",
       "      <th></th>\n",
       "      <th>started</th>\n",
       "    </tr>\n",
       "  </thead>\n",
       "  <tbody>\n",
       "    <tr>\n",
       "      <th>2006</th>\n",
       "      <td>13</td>\n",
       "    </tr>\n",
       "    <tr>\n",
       "      <th>2014</th>\n",
       "      <td>12</td>\n",
       "    </tr>\n",
       "    <tr>\n",
       "      <th>2012</th>\n",
       "      <td>10</td>\n",
       "    </tr>\n",
       "    <tr>\n",
       "      <th>2011</th>\n",
       "      <td>10</td>\n",
       "    </tr>\n",
       "    <tr>\n",
       "      <th>2016</th>\n",
       "      <td>7</td>\n",
       "    </tr>\n",
       "    <tr>\n",
       "      <th>2007</th>\n",
       "      <td>7</td>\n",
       "    </tr>\n",
       "    <tr>\n",
       "      <th>2015</th>\n",
       "      <td>6</td>\n",
       "    </tr>\n",
       "    <tr>\n",
       "      <th>2013</th>\n",
       "      <td>6</td>\n",
       "    </tr>\n",
       "    <tr>\n",
       "      <th>2008</th>\n",
       "      <td>5</td>\n",
       "    </tr>\n",
       "    <tr>\n",
       "      <th>2009</th>\n",
       "      <td>5</td>\n",
       "    </tr>\n",
       "    <tr>\n",
       "      <th>2017</th>\n",
       "      <td>5</td>\n",
       "    </tr>\n",
       "    <tr>\n",
       "      <th>2005</th>\n",
       "      <td>4</td>\n",
       "    </tr>\n",
       "    <tr>\n",
       "      <th>2010</th>\n",
       "      <td>3</td>\n",
       "    </tr>\n",
       "    <tr>\n",
       "      <th>2018</th>\n",
       "      <td>1</td>\n",
       "    </tr>\n",
       "    <tr>\n",
       "      <th>1970</th>\n",
       "      <td>1</td>\n",
       "    </tr>\n",
       "  </tbody>\n",
       "</table>\n",
       "</div></td></tr></table>"
      ],
      "text/plain": [
       "<IPython.core.display.HTML object>"
      ]
     },
     "execution_count": 20,
     "metadata": {},
     "output_type": "execute_result"
    }
   ],
   "source": [
    "nunique_df={var:pd.DataFrame(df[var].value_counts())\n",
    "           for var in {'category', 'started'}}\n",
    "\n",
    "multi_table([nunique_df['category'],nunique_df['started']])"
   ]
  },
  {
   "cell_type": "markdown",
   "id": "bf71d5ce",
   "metadata": {
    "papermill": {
     "duration": 0.017861,
     "end_time": "2022-08-14T03:16:52.019204",
     "exception": false,
     "start_time": "2022-08-14T03:16:52.001343",
     "status": "completed"
    },
    "tags": []
   },
   "source": [
    " <h2 style=\"color:#0B5394;font-size: 1em \"><b> Categories of Youtube Channel"
   ]
  },
  {
   "cell_type": "code",
   "execution_count": 21,
   "id": "a73ee50c",
   "metadata": {
    "execution": {
     "iopub.execute_input": "2022-08-14T03:16:52.056630Z",
     "iopub.status.busy": "2022-08-14T03:16:52.055698Z",
     "iopub.status.idle": "2022-08-14T03:16:52.592493Z",
     "shell.execute_reply": "2022-08-14T03:16:52.591060Z"
    },
    "papermill": {
     "duration": 0.560241,
     "end_time": "2022-08-14T03:16:52.596427",
     "exception": false,
     "start_time": "2022-08-14T03:16:52.036186",
     "status": "completed"
    },
    "tags": []
   },
   "outputs": [
    {
     "data": {
      "text/html": [
       "        <script type=\"text/javascript\">\n",
       "        window.PlotlyConfig = {MathJaxConfig: 'local'};\n",
       "        if (window.MathJax && window.MathJax.Hub && window.MathJax.Hub.Config) {window.MathJax.Hub.Config({SVG: {font: \"STIX-Web\"}});}\n",
       "        if (typeof require !== 'undefined') {\n",
       "        require.undef(\"plotly\");\n",
       "        requirejs.config({\n",
       "            paths: {\n",
       "                'plotly': ['https://cdn.plot.ly/plotly-2.12.1.min']\n",
       "            }\n",
       "        });\n",
       "        require(['plotly'], function(Plotly) {\n",
       "            window._Plotly = Plotly;\n",
       "        });\n",
       "        }\n",
       "        </script>\n",
       "        "
      ]
     },
     "metadata": {},
     "output_type": "display_data"
    },
    {
     "data": {
      "text/html": [
       "<div>                            <div id=\"745b823a-023c-439c-b85c-79facaf7a9be\" class=\"plotly-graph-div\" style=\"height:525px; width:100%;\"></div>            <script type=\"text/javascript\">                require([\"plotly\"], function(Plotly) {                    window.PLOTLYENV=window.PLOTLYENV || {};                                    if (document.getElementById(\"745b823a-023c-439c-b85c-79facaf7a9be\")) {                    Plotly.newPlot(                        \"745b823a-023c-439c-b85c-79facaf7a9be\",                        [{\"domain\":{\"x\":[0.0,1.0],\"y\":[0.0,1.0]},\"hovertemplate\":\"label=%{label}<br>value=%{value}<extra></extra>\",\"labels\":[\"Music \",\"Entertainment \",\"People & Blogs \",\"Gaming \",\"Education \",\"Shows \",\"Film & Animation \",\"Comedy \",\"Sports \",\"How to & Style \",\"News & Politics\",\"Trailers \",\"Nonprofits & Activism \"],\"legendgroup\":\"\",\"name\":\"\",\"showlegend\":true,\"values\":[33,19,10,7,6,4,4,4,2,2,2,1,1],\"type\":\"pie\",\"textfont\":{\"size\":11},\"textinfo\":\"percent+label\",\"textposition\":\"inside\"}],                        {\"template\":{\"data\":{\"pie\":[{\"automargin\":true,\"type\":\"pie\"}],\"scatter3d\":[{\"line\":{\"width\":3},\"marker\":{\"size\":9},\"type\":\"scatter3d\"}],\"scattergeo\":[{\"line\":{\"width\":3},\"marker\":{\"size\":9},\"type\":\"scattergeo\"}],\"scattergl\":[{\"line\":{\"width\":3},\"marker\":{\"size\":9},\"type\":\"scattergl\"}],\"scatterpolargl\":[{\"line\":{\"width\":3},\"marker\":{\"size\":9},\"type\":\"scatterpolargl\"}],\"scatterpolar\":[{\"line\":{\"width\":3},\"marker\":{\"size\":9},\"type\":\"scatterpolar\"}],\"scatter\":[{\"line\":{\"width\":3},\"marker\":{\"size\":9},\"type\":\"scatter\"}],\"scatterternary\":[{\"line\":{\"width\":3},\"marker\":{\"size\":9},\"type\":\"scatterternary\"}],\"table\":[{\"cells\":{\"height\":30},\"header\":{\"height\":36},\"type\":\"table\"}]},\"layout\":{\"font\":{\"size\":18},\"xaxis\":{\"title\":{\"standoff\":15}},\"yaxis\":{\"title\":{\"standoff\":15}}}},\"legend\":{\"tracegroupgap\":0},\"title\":{\"text\":\"Categories of Youtube Channels\"},\"piecolorway\":[\"rgb(103,0,31)\",\"rgb(178,24,43)\",\"rgb(214,96,77)\",\"rgb(244,165,130)\",\"rgb(253,219,199)\",\"rgb(247,247,247)\",\"rgb(209,229,240)\",\"rgb(146,197,222)\",\"rgb(67,147,195)\",\"rgb(33,102,172)\",\"rgb(5,48,97)\"]},                        {\"responsive\": true}                    ).then(function(){\n",
       "                            \n",
       "var gd = document.getElementById('745b823a-023c-439c-b85c-79facaf7a9be');\n",
       "var x = new MutationObserver(function (mutations, observer) {{\n",
       "        var display = window.getComputedStyle(gd).display;\n",
       "        if (!display || display === 'none') {{\n",
       "            console.log([gd, 'removed!']);\n",
       "            Plotly.purge(gd);\n",
       "            observer.disconnect();\n",
       "        }}\n",
       "}});\n",
       "\n",
       "// Listen for the removal of the full notebook cells\n",
       "var notebookContainer = gd.closest('#notebook-container');\n",
       "if (notebookContainer) {{\n",
       "    x.observe(notebookContainer, {childList: true});\n",
       "}}\n",
       "\n",
       "// Listen for the clearing of the current output cell\n",
       "var outputEl = gd.closest('.output');\n",
       "if (outputEl) {{\n",
       "    x.observe(outputEl, {childList: true});\n",
       "}}\n",
       "\n",
       "                        })                };                });            </script>        </div>"
      ]
     },
     "metadata": {},
     "output_type": "display_data"
    }
   ],
   "source": [
    "categories=df['category'].value_counts()\n",
    "fig=px.pie(values=categories.values,\n",
    "          names=categories.index,\n",
    "          color_discrete_sequence=px.colors.sequential.RdBu,\n",
    "          title=\"Categories of Youtube Channels\", template='presentation'\n",
    "          )\n",
    "fig.update_traces(textposition='inside',\n",
    "                  textfont_size=11,\n",
    "                  textinfo='percent+label')\n",
    "fig.show();"
   ]
  },
  {
   "cell_type": "markdown",
   "id": "c3db656e",
   "metadata": {
    "papermill": {
     "duration": 0.017707,
     "end_time": "2022-08-14T03:16:52.632142",
     "exception": false,
     "start_time": "2022-08-14T03:16:52.614435",
     "status": "completed"
    },
    "tags": []
   },
   "source": [
    " <h2 style=\"color:#0B5394;font-size: 1em \"><b> Started year of youtube channels"
   ]
  },
  {
   "cell_type": "code",
   "execution_count": 22,
   "id": "c4ed69ad",
   "metadata": {
    "execution": {
     "iopub.execute_input": "2022-08-14T03:16:52.670316Z",
     "iopub.status.busy": "2022-08-14T03:16:52.669427Z",
     "iopub.status.idle": "2022-08-14T03:16:53.081694Z",
     "shell.execute_reply": "2022-08-14T03:16:53.080162Z"
    },
    "papermill": {
     "duration": 0.436346,
     "end_time": "2022-08-14T03:16:53.086274",
     "exception": false,
     "start_time": "2022-08-14T03:16:52.649928",
     "status": "completed"
    },
    "tags": []
   },
   "outputs": [
    {
     "data": {
      "image/png": "[encoded data removed]",
      "text/plain": [
       "<Figure size 1440x576 with 1 Axes>"
      ]
     },
     "metadata": {
      "needs_background": "light"
     },
     "output_type": "display_data"
    }
   ],
   "source": [
    "year=df['started'].value_counts()\n",
    "plt.figure(figsize=(20,8))\n",
    "sns.pointplot(x=year.index,y=year.values, color='violet')\n",
    "plt.xlabel('Year')\n",
    "plt.ylabel('Count')\n",
    "plt.title('Started year of youtube channels',size=30, color='maroon');"
   ]
  },
  {
   "cell_type": "markdown",
   "id": "f43443c8",
   "metadata": {
    "papermill": {
     "duration": 0.028159,
     "end_time": "2022-08-14T03:16:53.134222",
     "exception": false,
     "start_time": "2022-08-14T03:16:53.106063",
     "status": "completed"
    },
    "tags": []
   },
   "source": [
    "<h2 style=\"color:#0B5394;font-size: 1em \"><b>Mean subscribers, video views and vido count of all youtube channels year by year"
   ]
  },
  {
   "cell_type": "code",
   "execution_count": 23,
   "id": "508801ef",
   "metadata": {
    "execution": {
     "iopub.execute_input": "2022-08-14T03:16:53.173493Z",
     "iopub.status.busy": "2022-08-14T03:16:53.172627Z",
     "iopub.status.idle": "2022-08-14T03:16:53.196650Z",
     "shell.execute_reply": "2022-08-14T03:16:53.195433Z"
    },
    "papermill": {
     "duration": 0.046234,
     "end_time": "2022-08-14T03:16:53.199381",
     "exception": false,
     "start_time": "2022-08-14T03:16:53.153147",
     "status": "completed"
    },
    "tags": []
   },
   "outputs": [
    {
     "data": {
      "text/html": [
       "<div>\n",
       "<style scoped>\n",
       "    .dataframe tbody tr th:only-of-type {\n",
       "        vertical-align: middle;\n",
       "    }\n",
       "\n",
       "    .dataframe tbody tr th {\n",
       "        vertical-align: top;\n",
       "    }\n",
       "\n",
       "    .dataframe thead th {\n",
       "        text-align: right;\n",
       "    }\n",
       "</style>\n",
       "<table border=\"1\" class=\"dataframe\">\n",
       "  <thead>\n",
       "    <tr style=\"text-align: right;\">\n",
       "      <th></th>\n",
       "      <th>started</th>\n",
       "      <th>rank</th>\n",
       "      <th>subscribers</th>\n",
       "      <th>video views</th>\n",
       "      <th>video count</th>\n",
       "    </tr>\n",
       "  </thead>\n",
       "  <tbody>\n",
       "    <tr>\n",
       "      <th>0</th>\n",
       "      <td>1970</td>\n",
       "      <td>94.000000</td>\n",
       "      <td>3.290000e+07</td>\n",
       "      <td>2.647950e+09</td>\n",
       "      <td>483.000000</td>\n",
       "    </tr>\n",
       "    <tr>\n",
       "      <th>1</th>\n",
       "      <td>2005</td>\n",
       "      <td>59.250000</td>\n",
       "      <td>4.327500e+07</td>\n",
       "      <td>1.804990e+10</td>\n",
       "      <td>16044.000000</td>\n",
       "    </tr>\n",
       "    <tr>\n",
       "      <th>2</th>\n",
       "      <td>2006</td>\n",
       "      <td>44.461538</td>\n",
       "      <td>6.942308e+07</td>\n",
       "      <td>5.306097e+10</td>\n",
       "      <td>12313.769231</td>\n",
       "    </tr>\n",
       "    <tr>\n",
       "      <th>3</th>\n",
       "      <td>2007</td>\n",
       "      <td>32.857143</td>\n",
       "      <td>5.871429e+07</td>\n",
       "      <td>3.730683e+10</td>\n",
       "      <td>17767.142857</td>\n",
       "    </tr>\n",
       "    <tr>\n",
       "      <th>4</th>\n",
       "      <td>2008</td>\n",
       "      <td>51.600000</td>\n",
       "      <td>4.632000e+07</td>\n",
       "      <td>3.109270e+10</td>\n",
       "      <td>52155.600000</td>\n",
       "    </tr>\n",
       "    <tr>\n",
       "      <th>5</th>\n",
       "      <td>2009</td>\n",
       "      <td>47.400000</td>\n",
       "      <td>4.698000e+07</td>\n",
       "      <td>1.704113e+10</td>\n",
       "      <td>72447.800000</td>\n",
       "    </tr>\n",
       "    <tr>\n",
       "      <th>6</th>\n",
       "      <td>2010</td>\n",
       "      <td>33.333333</td>\n",
       "      <td>6.913333e+07</td>\n",
       "      <td>2.264074e+10</td>\n",
       "      <td>4085.000000</td>\n",
       "    </tr>\n",
       "    <tr>\n",
       "      <th>7</th>\n",
       "      <td>2011</td>\n",
       "      <td>55.000000</td>\n",
       "      <td>4.303000e+07</td>\n",
       "      <td>2.302828e+10</td>\n",
       "      <td>3141.800000</td>\n",
       "    </tr>\n",
       "    <tr>\n",
       "      <th>8</th>\n",
       "      <td>2012</td>\n",
       "      <td>51.300000</td>\n",
       "      <td>5.153000e+07</td>\n",
       "      <td>1.866820e+10</td>\n",
       "      <td>29257.500000</td>\n",
       "    </tr>\n",
       "    <tr>\n",
       "      <th>9</th>\n",
       "      <td>2013</td>\n",
       "      <td>51.166667</td>\n",
       "      <td>4.438333e+07</td>\n",
       "      <td>1.664049e+10</td>\n",
       "      <td>21082.333333</td>\n",
       "    </tr>\n",
       "    <tr>\n",
       "      <th>10</th>\n",
       "      <td>2014</td>\n",
       "      <td>59.333333</td>\n",
       "      <td>4.378333e+07</td>\n",
       "      <td>2.161543e+10</td>\n",
       "      <td>3759.166667</td>\n",
       "    </tr>\n",
       "    <tr>\n",
       "      <th>11</th>\n",
       "      <td>2015</td>\n",
       "      <td>64.000000</td>\n",
       "      <td>4.766667e+07</td>\n",
       "      <td>2.976569e+10</td>\n",
       "      <td>1226.500000</td>\n",
       "    </tr>\n",
       "    <tr>\n",
       "      <th>12</th>\n",
       "      <td>2016</td>\n",
       "      <td>50.428571</td>\n",
       "      <td>5.478571e+07</td>\n",
       "      <td>2.851947e+10</td>\n",
       "      <td>1474.142857</td>\n",
       "    </tr>\n",
       "    <tr>\n",
       "      <th>13</th>\n",
       "      <td>2017</td>\n",
       "      <td>75.200000</td>\n",
       "      <td>3.720000e+07</td>\n",
       "      <td>1.549223e+10</td>\n",
       "      <td>1477.600000</td>\n",
       "    </tr>\n",
       "    <tr>\n",
       "      <th>14</th>\n",
       "      <td>2018</td>\n",
       "      <td>13.000000</td>\n",
       "      <td>8.090000e+07</td>\n",
       "      <td>6.244451e+10</td>\n",
       "      <td>443.000000</td>\n",
       "    </tr>\n",
       "  </tbody>\n",
       "</table>\n",
       "</div>"
      ],
      "text/plain": [
       "    started       rank   subscribers   video views   video count\n",
       "0      1970  94.000000  3.290000e+07  2.647950e+09    483.000000\n",
       "1      2005  59.250000  4.327500e+07  1.804990e+10  16044.000000\n",
       "2      2006  44.461538  6.942308e+07  5.306097e+10  12313.769231\n",
       "3      2007  32.857143  5.871429e+07  3.730683e+10  17767.142857\n",
       "4      2008  51.600000  4.632000e+07  3.109270e+10  52155.600000\n",
       "5      2009  47.400000  4.698000e+07  1.704113e+10  72447.800000\n",
       "6      2010  33.333333  6.913333e+07  2.264074e+10   4085.000000\n",
       "7      2011  55.000000  4.303000e+07  2.302828e+10   3141.800000\n",
       "8      2012  51.300000  5.153000e+07  1.866820e+10  29257.500000\n",
       "9      2013  51.166667  4.438333e+07  1.664049e+10  21082.333333\n",
       "10     2014  59.333333  4.378333e+07  2.161543e+10   3759.166667\n",
       "11     2015  64.000000  4.766667e+07  2.976569e+10   1226.500000\n",
       "12     2016  50.428571  5.478571e+07  2.851947e+10   1474.142857\n",
       "13     2017  75.200000  3.720000e+07  1.549223e+10   1477.600000\n",
       "14     2018  13.000000  8.090000e+07  6.244451e+10    443.000000"
      ]
     },
     "execution_count": 23,
     "metadata": {},
     "output_type": "execute_result"
    }
   ],
   "source": [
    "year_mean=df.groupby('started').mean().reset_index()\n",
    "year_mean"
   ]
  },
  {
   "cell_type": "code",
   "execution_count": 24,
   "id": "40c1d1d5",
   "metadata": {
    "execution": {
     "iopub.execute_input": "2022-08-14T03:16:53.238074Z",
     "iopub.status.busy": "2022-08-14T03:16:53.237204Z",
     "iopub.status.idle": "2022-08-14T03:16:53.244274Z",
     "shell.execute_reply": "2022-08-14T03:16:53.243090Z"
    },
    "papermill": {
     "duration": 0.029405,
     "end_time": "2022-08-14T03:16:53.246983",
     "exception": false,
     "start_time": "2022-08-14T03:16:53.217578",
     "status": "completed"
    },
    "tags": []
   },
   "outputs": [],
   "source": [
    "def pltplot(data, xcol, ycol, color, ax, title):\n",
    "    sns.pointplot(data=data, x=xcol, y=ycol, color=color, ax=ax).set_title(title, size=10)\n",
    "    "
   ]
  },
  {
   "cell_type": "code",
   "execution_count": 25,
   "id": "a0d24a92",
   "metadata": {
    "execution": {
     "iopub.execute_input": "2022-08-14T03:16:53.286125Z",
     "iopub.status.busy": "2022-08-14T03:16:53.284998Z",
     "iopub.status.idle": "2022-08-14T03:16:54.467662Z",
     "shell.execute_reply": "2022-08-14T03:16:54.465783Z"
    },
    "papermill": {
     "duration": 1.205909,
     "end_time": "2022-08-14T03:16:54.471225",
     "exception": false,
     "start_time": "2022-08-14T03:16:53.265316",
     "status": "completed"
    },
    "tags": []
   },
   "outputs": [
    {
     "data": {
      "image/png": "[encoded data removed]",
      "text/plain": [
       "<Figure size 1440x720 with 3 Axes>"
      ]
     },
     "metadata": {
      "needs_background": "light"
     },
     "output_type": "display_data"
    }
   ],
   "source": [
    "fig, ((ax1),(ax2),(ax3))=plt.subplots(ncols=1, nrows=3)\n",
    "fig.set_size_inches(20,10)\n",
    "fig.tight_layout(pad=3.0)\n",
    "\n",
    "pltplot(year_mean,'started','subscribers','lightcoral', ax1,'Subscribers per Year (mean)')\n",
    "pltplot(year_mean,'started','video views','green', ax2,'Video views per Year (mean)')\n",
    "pltplot(year_mean,'started','video count','gold', ax3,'Video count per Year (mean)')"
   ]
  },
  {
   "cell_type": "markdown",
   "id": "328338c8",
   "metadata": {
    "papermill": {
     "duration": 0.020796,
     "end_time": "2022-08-14T03:16:54.512694",
     "exception": false,
     "start_time": "2022-08-14T03:16:54.491898",
     "status": "completed"
    },
    "tags": []
   },
   "source": [
    " <h2 style=\"color:#0B5394;font-size: 1em \"><b> Top 5 Categories that have subscribers"
   ]
  },
  {
   "cell_type": "code",
   "execution_count": 26,
   "id": "0336e32a",
   "metadata": {
    "execution": {
     "iopub.execute_input": "2022-08-14T03:16:54.556918Z",
     "iopub.status.busy": "2022-08-14T03:16:54.556229Z",
     "iopub.status.idle": "2022-08-14T03:16:54.873471Z",
     "shell.execute_reply": "2022-08-14T03:16:54.872094Z"
    },
    "papermill": {
     "duration": 0.342586,
     "end_time": "2022-08-14T03:16:54.876399",
     "exception": false,
     "start_time": "2022-08-14T03:16:54.533813",
     "status": "completed"
    },
    "tags": []
   },
   "outputs": [
    {
     "data": {
      "image/png": "[encoded data removed]",
      "text/plain": [
       "<Figure size 1800x720 with 1 Axes>"
      ]
     },
     "metadata": {
      "needs_background": "light"
     },
     "output_type": "display_data"
    }
   ],
   "source": [
    "subscribers=df.sort_values('subscribers',ascending=False)\n",
    "plt.figure(figsize=(25,10))\n",
    "subscribers=subscribers[:5]\n",
    "sns.barplot(x=\"category\",\n",
    "           y=\"subscribers\",\n",
    "           data=subscribers,\n",
    "           palette=\"ch:20_r\")\n",
    "plt.title('Top 5 Categories that have subscribers',size=20);"
   ]
  },
  {
   "cell_type": "markdown",
   "id": "713d93c7",
   "metadata": {
    "papermill": {
     "duration": 0.019903,
     "end_time": "2022-08-14T03:16:54.917304",
     "exception": false,
     "start_time": "2022-08-14T03:16:54.897401",
     "status": "completed"
    },
    "tags": []
   },
   "source": [
    " <h2 style=\"color:#0B5394;font-size: 1em \"><b> Top 5 Categories that have Video Views"
   ]
  },
  {
   "cell_type": "code",
   "execution_count": 27,
   "id": "c6538c1e",
   "metadata": {
    "execution": {
     "iopub.execute_input": "2022-08-14T03:16:54.961343Z",
     "iopub.status.busy": "2022-08-14T03:16:54.960531Z",
     "iopub.status.idle": "2022-08-14T03:16:55.282673Z",
     "shell.execute_reply": "2022-08-14T03:16:55.281265Z"
    },
    "papermill": {
     "duration": 0.348079,
     "end_time": "2022-08-14T03:16:55.285812",
     "exception": false,
     "start_time": "2022-08-14T03:16:54.937733",
     "status": "completed"
    },
    "tags": []
   },
   "outputs": [
    {
     "data": {
      "image/png": "[encoded data removed]",
      "text/plain": [
       "<Figure size 1800x720 with 1 Axes>"
      ]
     },
     "metadata": {
      "needs_background": "light"
     },
     "output_type": "display_data"
    }
   ],
   "source": [
    "videoviews=df.sort_values('video views',ascending=False)\n",
    "plt.figure(figsize=(25,10))\n",
    "videoviews=videoviews[:5]\n",
    "sns.barplot(x=\"category\",\n",
    "           y=\"video views\",\n",
    "           data=videoviews,\n",
    "           palette=\"ch:40_r\")\n",
    "plt.title('Top 5 Categories that have Video Views',size=20);"
   ]
  },
  {
   "cell_type": "markdown",
   "id": "12976f35",
   "metadata": {
    "papermill": {
     "duration": 0.023925,
     "end_time": "2022-08-14T03:16:55.331427",
     "exception": false,
     "start_time": "2022-08-14T03:16:55.307502",
     "status": "completed"
    },
    "tags": []
   },
   "source": [
    " <h2 style=\"color:#0B5394;font-size: 1em \"><b> Top 5 Categories that have Video Counts"
   ]
  },
  {
   "cell_type": "code",
   "execution_count": 28,
   "id": "d617c94d",
   "metadata": {
    "execution": {
     "iopub.execute_input": "2022-08-14T03:16:55.379516Z",
     "iopub.status.busy": "2022-08-14T03:16:55.378990Z",
     "iopub.status.idle": "2022-08-14T03:16:55.702870Z",
     "shell.execute_reply": "2022-08-14T03:16:55.701718Z"
    },
    "papermill": {
     "duration": 0.352488,
     "end_time": "2022-08-14T03:16:55.706240",
     "exception": false,
     "start_time": "2022-08-14T03:16:55.353752",
     "status": "completed"
    },
    "tags": []
   },
   "outputs": [
    {
     "data": {
      "image/png": "[encoded data removed]",
      "text/plain": [
       "<Figure size 1800x720 with 1 Axes>"
      ]
     },
     "metadata": {
      "needs_background": "light"
     },
     "output_type": "display_data"
    }
   ],
   "source": [
    "videocount=df.sort_values('video count',ascending=False)\n",
    "plt.figure(figsize=(25,10))\n",
    "videocount=videocount[:5]\n",
    "sns.barplot(x=\"category\",\n",
    "           y=\"video count\",\n",
    "           data=videocount,\n",
    "           palette=\"ch:30_r\")\n",
    "plt.title('Top Categories that have Video Counts',size=20);"
   ]
  },
  {
   "cell_type": "code",
   "execution_count": 29,
   "id": "339422f7",
   "metadata": {
    "execution": {
     "iopub.execute_input": "2022-08-14T03:16:55.756250Z",
     "iopub.status.busy": "2022-08-14T03:16:55.755122Z",
     "iopub.status.idle": "2022-08-14T03:16:55.762951Z",
     "shell.execute_reply": "2022-08-14T03:16:55.761743Z"
    },
    "papermill": {
     "duration": 0.03513,
     "end_time": "2022-08-14T03:16:55.765627",
     "exception": false,
     "start_time": "2022-08-14T03:16:55.730497",
     "status": "completed"
    },
    "tags": []
   },
   "outputs": [],
   "source": [
    "def plot(data, xcol, ycol, size, color,title):\n",
    "    px.scatter(data, x=xcol,y=ycol,\n",
    "               size=size, color=color,\n",
    "               log_x=True, size_max=50).set_title(title,fontsize=20)\n",
    "    axs.legend(bbox_to_anchor=(1.05, 1), loc=2, borderaxespad=0.)\n",
    "title1 = 'categories with video views and subscribers'\n",
    "title2 = 'categories with video views and video counts'\n"
   ]
  },
  {
   "cell_type": "markdown",
   "id": "20b9310e",
   "metadata": {
    "papermill": {
     "duration": 0.022861,
     "end_time": "2022-08-14T03:16:55.811197",
     "exception": false,
     "start_time": "2022-08-14T03:16:55.788336",
     "status": "completed"
    },
    "tags": []
   },
   "source": [
    " <h2 style=\"color:#0B5394;font-size: 1em \"><b>Categories with Video views and Subscribers"
   ]
  },
  {
   "cell_type": "code",
   "execution_count": 30,
   "id": "f61fcadd",
   "metadata": {
    "execution": {
     "iopub.execute_input": "2022-08-14T03:16:55.860863Z",
     "iopub.status.busy": "2022-08-14T03:16:55.860412Z",
     "iopub.status.idle": "2022-08-14T03:16:56.801039Z",
     "shell.execute_reply": "2022-08-14T03:16:56.799728Z"
    },
    "papermill": {
     "duration": 0.969582,
     "end_time": "2022-08-14T03:16:56.804133",
     "exception": false,
     "start_time": "2022-08-14T03:16:55.834551",
     "status": "completed"
    },
    "tags": []
   },
   "outputs": [
    {
     "data": {
      "text/html": [
       "<div>                            <div id=\"9d04f89e-cd12-4e62-936d-7a8f7f9e205c\" class=\"plotly-graph-div\" style=\"height:525px; width:100%;\"></div>            <script type=\"text/javascript\">                require([\"plotly\"], function(Plotly) {                    window.PLOTLYENV=window.PLOTLYENV || {};                                    if (document.getElementById(\"9d04f89e-cd12-4e62-936d-7a8f7f9e205c\")) {                    Plotly.newPlot(                        \"9d04f89e-cd12-4e62-936d-7a8f7f9e205c\",                        [{\"hovertemplate\":\"category=Music <br>subscribers=%{x}<br>video views=%{marker.size}<extra></extra>\",\"legendgroup\":\"Music \",\"marker\":{\"color\":\"#636efa\",\"size\":[188073919029,46291230294,27701817623,36145092618,15827521495,22230010723,27266280091,36012717623,22733757739,26988082012,21549846530,23567472626,26034278484,22797147163,47232834583,28034396603,24711297896,11412714912,23477006711,11358287657,22855070416,23698345670,19328721596,23244187762,12395170322,9439987125,19516597967,20238289703,20471335787,16706459290,20881421568,13405543587,9115577588],\"sizemode\":\"area\",\"sizeref\":75229567.6116,\"symbol\":\"circle\"},\"mode\":\"markers\",\"name\":\"Music \",\"orientation\":\"v\",\"showlegend\":true,\"x\":[213000000,83300000,68400000,65600000,65600000,65000000,59400000,51700000,51700000,51600000,51100000,50600000,50300000,49900000,49300000,48900000,46200000,45300000,42700000,41700000,41300000,40100000,38500000,37200000,37000000,36800000,36200000,35700000,34800000,34700000,33300000,32800000,32200000],\"xaxis\":\"x\",\"y\":[188073919029,46291230294,27701817623,36145092618,15827521495,22230010723,27266280091,36012717623,22733757739,26988082012,21549846530,23567472626,26034278484,22797147163,47232834583,28034396603,24711297896,11412714912,23477006711,11358287657,22855070416,23698345670,19328721596,23244187762,12395170322,9439987125,19516597967,20238289703,20471335787,16706459290,20881421568,13405543587,9115577588],\"yaxis\":\"y\",\"type\":\"scatter\"},{\"alignmentgroup\":\"True\",\"boxpoints\":\"all\",\"fillcolor\":\"rgba(255,255,255,0)\",\"hoveron\":\"points\",\"hovertemplate\":\"category=Music <br>video views=%{y}<extra></extra>\",\"jitter\":0,\"legendgroup\":\"Music \",\"line\":{\"color\":\"rgba(255,255,255,0)\"},\"marker\":{\"color\":\"#636efa\",\"symbol\":\"line-ew-open\"},\"name\":\"Music \",\"offsetgroup\":\"Music \",\"showlegend\":false,\"xaxis\":\"x2\",\"y\":[188073919029,46291230294,27701817623,36145092618,15827521495,22230010723,27266280091,36012717623,22733757739,26988082012,21549846530,23567472626,26034278484,22797147163,47232834583,28034396603,24711297896,11412714912,23477006711,11358287657,22855070416,23698345670,19328721596,23244187762,12395170322,9439987125,19516597967,20238289703,20471335787,16706459290,20881421568,13405543587,9115577588],\"yaxis\":\"y2\",\"type\":\"box\"},{\"hovertemplate\":\"category=Education <br>subscribers=%{x}<br>video views=%{marker.size}<extra></extra>\",\"legendgroup\":\"Education \",\"marker\":{\"color\":\"#EF553B\",\"size\":[126822520940,30097233928,37609551674,24014102724,35945824996,35216710205],\"sizemode\":\"area\",\"sizeref\":75229567.6116,\"symbol\":\"circle\"},\"mode\":\"markers\",\"name\":\"Education \",\"orientation\":\"v\",\"showlegend\":true,\"x\":[133000000,57000000,55800000,43200000,38600000,33900000],\"xaxis\":\"x\",\"y\":[126822520940,30097233928,37609551674,24014102724,35945824996,35216710205],\"yaxis\":\"y\",\"type\":\"scatter\"},{\"alignmentgroup\":\"True\",\"boxpoints\":\"all\",\"fillcolor\":\"rgba(255,255,255,0)\",\"hoveron\":\"points\",\"hovertemplate\":\"category=Education <br>video views=%{y}<extra></extra>\",\"jitter\":0,\"legendgroup\":\"Education \",\"line\":{\"color\":\"rgba(255,255,255,0)\"},\"marker\":{\"color\":\"#EF553B\",\"symbol\":\"line-ew-open\"},\"name\":\"Education \",\"offsetgroup\":\"Education \",\"showlegend\":false,\"xaxis\":\"x2\",\"y\":[126822520940,30097233928,37609551674,24014102724,35945824996,35216710205],\"yaxis\":\"y2\",\"type\":\"box\"},{\"hovertemplate\":\"category=Shows <br>subscribers=%{x}<br>video views=%{marker.size}<extra></extra>\",\"legendgroup\":\"Shows \",\"marker\":{\"color\":\"#00cc96\",\"size\":[101541977714,75885489073,48868988091,17999127339],\"sizemode\":\"area\",\"sizeref\":75229567.6116,\"symbol\":\"circle\"},\"mode\":\"markers\",\"name\":\"Shows \",\"orientation\":\"v\",\"showlegend\":true,\"x\":[131000000,65900000,51900000,33200000],\"xaxis\":\"x\",\"y\":[101541977714,75885489073,48868988091,17999127339],\"yaxis\":\"y\",\"type\":\"scatter\"},{\"alignmentgroup\":\"True\",\"boxpoints\":\"all\",\"fillcolor\":\"rgba(255,255,255,0)\",\"hoveron\":\"points\",\"hovertemplate\":\"category=Shows <br>video views=%{y}<extra></extra>\",\"jitter\":0,\"legendgroup\":\"Shows \",\"line\":{\"color\":\"rgba(255,255,255,0)\"},\"marker\":{\"color\":\"#00cc96\",\"symbol\":\"line-ew-open\"},\"name\":\"Shows \",\"offsetgroup\":\"Shows \",\"showlegend\":false,\"xaxis\":\"x2\",\"y\":[101541977714,75885489073,48868988091,17999127339],\"yaxis\":\"y2\",\"type\":\"box\"},{\"hovertemplate\":\"category=Gaming <br>subscribers=%{x}<br>video views=%{marker.size}<extra></extra>\",\"legendgroup\":\"Gaming \",\"marker\":{\"color\":\"#ab63fa\",\"size\":[28260779633,13400179485,9834587080,7429801800,14391209548,14724851921,18011837263],\"sizemode\":\"area\",\"sizeref\":75229567.6116,\"symbol\":\"circle\"},\"mode\":\"markers\",\"name\":\"Gaming \",\"orientation\":\"v\",\"showlegend\":true,\"x\":[111000000,45500000,44800000,40400000,39400000,33000000,32600000],\"xaxis\":\"x\",\"y\":[28260779633,13400179485,9834587080,7429801800,14391209548,14724851921,18011837263],\"yaxis\":\"y\",\"type\":\"scatter\"},{\"alignmentgroup\":\"True\",\"boxpoints\":\"all\",\"fillcolor\":\"rgba(255,255,255,0)\",\"hoveron\":\"points\",\"hovertemplate\":\"category=Gaming <br>video views=%{y}<extra></extra>\",\"jitter\":0,\"legendgroup\":\"Gaming \",\"line\":{\"color\":\"rgba(255,255,255,0)\"},\"marker\":{\"color\":\"#ab63fa\",\"symbol\":\"line-ew-open\"},\"name\":\"Gaming \",\"offsetgroup\":\"Gaming \",\"showlegend\":false,\"xaxis\":\"x2\",\"y\":[28260779633,13400179485,9834587080,7429801800,14391209548,14724851921,18011837263],\"yaxis\":\"y2\",\"type\":\"box\"},{\"hovertemplate\":\"category=Entertainment <br>subscribers=%{x}<br>video views=%{marker.size}<extra></extra>\",\"legendgroup\":\"Entertainment \",\"marker\":{\"color\":\"#FFA15A\",\"size\":[15417304461,62444514631,15900076809,12967930243,18388171178,14903103358,4702061823,7061556772,18474229002,27941044582,19498773786,22040498763,16096496089,32750254533,19282156578,38339684179,26302194542,15144858210,51312603726],\"sizemode\":\"area\",\"sizeref\":75229567.6116,\"symbol\":\"circle\"},\"mode\":\"markers\",\"name\":\"Entertainment \",\"orientation\":\"v\",\"showlegend\":true,\"x\":[93900000,80900000,62000000,55100000,45500000,43900000,43200000,42600000,41000000,39200000,39000000,38200000,36300000,36200000,36000000,35300000,33400000,32600000,32400000],\"xaxis\":\"x\",\"y\":[15417304461,62444514631,15900076809,12967930243,18388171178,14903103358,4702061823,7061556772,18474229002,27941044582,19498773786,22040498763,16096496089,32750254533,19282156578,38339684179,26302194542,15144858210,51312603726],\"yaxis\":\"y\",\"type\":\"scatter\"},{\"alignmentgroup\":\"True\",\"boxpoints\":\"all\",\"fillcolor\":\"rgba(255,255,255,0)\",\"hoveron\":\"points\",\"hovertemplate\":\"category=Entertainment <br>video views=%{y}<extra></extra>\",\"jitter\":0,\"legendgroup\":\"Entertainment \",\"line\":{\"color\":\"rgba(255,255,255,0)\"},\"marker\":{\"color\":\"#FFA15A\",\"symbol\":\"line-ew-open\"},\"name\":\"Entertainment \",\"offsetgroup\":\"Entertainment \",\"showlegend\":false,\"xaxis\":\"x2\",\"y\":[15417304461,62444514631,15900076809,12967930243,18388171178,14903103358,4702061823,7061556772,18474229002,27941044582,19498773786,22040498763,16096496089,32750254533,19282156578,38339684179,26302194542,15144858210,51312603726],\"yaxis\":\"y2\",\"type\":\"box\"},{\"hovertemplate\":\"category=People & Blogs <br>subscribers=%{x}<br>video views=%{marker.size}<extra></extra>\",\"legendgroup\":\"People & Blogs \",\"marker\":{\"color\":\"#19d3f3\",\"size\":[73296417664,74204846514,23351994944,46162631485,19721474289,3997275983,22591879625,18171683239,19676656583,9850740503],\"sizemode\":\"area\",\"sizeref\":75229567.6116,\"symbol\":\"circle\"},\"mode\":\"markers\",\"name\":\"People & Blogs \",\"orientation\":\"v\",\"showlegend\":true,\"x\":[93800000,91000000,73600000,39000000,37100000,36200000,35500000,35100000,34700000,32300000],\"xaxis\":\"x\",\"y\":[73296417664,74204846514,23351994944,46162631485,19721474289,3997275983,22591879625,18171683239,19676656583,9850740503],\"yaxis\":\"y\",\"type\":\"scatter\"},{\"alignmentgroup\":\"True\",\"boxpoints\":\"all\",\"fillcolor\":\"rgba(255,255,255,0)\",\"hoveron\":\"points\",\"hovertemplate\":\"category=People & Blogs <br>video views=%{y}<extra></extra>\",\"jitter\":0,\"legendgroup\":\"People & Blogs \",\"line\":{\"color\":\"rgba(255,255,255,0)\"},\"marker\":{\"color\":\"#19d3f3\",\"symbol\":\"line-ew-open\"},\"name\":\"People & Blogs \",\"offsetgroup\":\"People & Blogs \",\"showlegend\":false,\"xaxis\":\"x2\",\"y\":[73296417664,74204846514,23351994944,46162631485,19721474289,3997275983,22591879625,18171683239,19676656583,9850740503],\"yaxis\":\"y2\",\"type\":\"box\"},{\"hovertemplate\":\"category=Sports <br>subscribers=%{x}<br>video views=%{marker.size}<extra></extra>\",\"legendgroup\":\"Sports \",\"marker\":{\"color\":\"#FF6692\",\"size\":[67960479071,14219518587],\"sizemode\":\"area\",\"sizeref\":75229567.6116,\"symbol\":\"circle\"},\"mode\":\"markers\",\"name\":\"Sports \",\"orientation\":\"v\",\"showlegend\":true,\"x\":[87600000,57400000],\"xaxis\":\"x\",\"y\":[67960479071,14219518587],\"yaxis\":\"y\",\"type\":\"scatter\"},{\"alignmentgroup\":\"True\",\"boxpoints\":\"all\",\"fillcolor\":\"rgba(255,255,255,0)\",\"hoveron\":\"points\",\"hovertemplate\":\"category=Sports <br>video views=%{y}<extra></extra>\",\"jitter\":0,\"legendgroup\":\"Sports \",\"line\":{\"color\":\"rgba(255,255,255,0)\"},\"marker\":{\"color\":\"#FF6692\",\"symbol\":\"line-ew-open\"},\"name\":\"Sports \",\"offsetgroup\":\"Sports \",\"showlegend\":false,\"xaxis\":\"x2\",\"y\":[67960479071,14219518587],\"yaxis\":\"y2\",\"type\":\"box\"},{\"hovertemplate\":\"category=How to & Style <br>subscribers=%{x}<br>video views=%{marker.size}<extra></extra>\",\"legendgroup\":\"How to & Style \",\"marker\":{\"color\":\"#B6E880\",\"size\":[23174639387,9762131005],\"sizemode\":\"area\",\"sizeref\":75229567.6116,\"symbol\":\"circle\"},\"mode\":\"markers\",\"name\":\"How to & Style \",\"orientation\":\"v\",\"showlegend\":true,\"x\":[76300000,43200000],\"xaxis\":\"x\",\"y\":[23174639387,9762131005],\"yaxis\":\"y\",\"type\":\"scatter\"},{\"alignmentgroup\":\"True\",\"boxpoints\":\"all\",\"fillcolor\":\"rgba(255,255,255,0)\",\"hoveron\":\"points\",\"hovertemplate\":\"category=How to & Style <br>video views=%{y}<extra></extra>\",\"jitter\":0,\"legendgroup\":\"How to & Style \",\"line\":{\"color\":\"rgba(255,255,255,0)\"},\"marker\":{\"color\":\"#B6E880\",\"symbol\":\"line-ew-open\"},\"name\":\"How to & Style \",\"offsetgroup\":\"How to & Style \",\"showlegend\":false,\"xaxis\":\"x2\",\"y\":[23174639387,9762131005],\"yaxis\":\"y2\",\"type\":\"box\"},{\"hovertemplate\":\"category=Film & Animation <br>subscribers=%{x}<br>video views=%{marker.size}<extra></extra>\",\"legendgroup\":\"Film & Animation \",\"marker\":{\"color\":\"#FF97FF\",\"size\":[16271446682,57317911331,27290750378,31845287102],\"sizemode\":\"area\",\"sizeref\":75229567.6116,\"symbol\":\"circle\"},\"mode\":\"markers\",\"name\":\"Film & Animation \",\"orientation\":\"v\",\"showlegend\":true,\"x\":[68800000,56600000,45500000,37600000],\"xaxis\":\"x\",\"y\":[16271446682,57317911331,27290750378,31845287102],\"yaxis\":\"y\",\"type\":\"scatter\"},{\"alignmentgroup\":\"True\",\"boxpoints\":\"all\",\"fillcolor\":\"rgba(255,255,255,0)\",\"hoveron\":\"points\",\"hovertemplate\":\"category=Film & Animation <br>video views=%{y}<extra></extra>\",\"jitter\":0,\"legendgroup\":\"Film & Animation \",\"line\":{\"color\":\"rgba(255,255,255,0)\"},\"marker\":{\"color\":\"#FF97FF\",\"symbol\":\"line-ew-open\"},\"name\":\"Film & Animation \",\"offsetgroup\":\"Film & Animation \",\"showlegend\":false,\"xaxis\":\"x2\",\"y\":[16271446682,57317911331,27290750378,31845287102],\"yaxis\":\"y2\",\"type\":\"box\"},{\"hovertemplate\":\"category=News & Politics<br>subscribers=%{x}<br>video views=%{marker.size}<extra></extra>\",\"legendgroup\":\"News & Politics\",\"marker\":{\"color\":\"#FECB52\",\"size\":[18207329178,2647950108],\"sizemode\":\"area\",\"sizeref\":75229567.6116,\"symbol\":\"circle\"},\"mode\":\"markers\",\"name\":\"News & Politics\",\"orientation\":\"v\",\"showlegend\":true,\"x\":[51100000,32900000],\"xaxis\":\"x\",\"y\":[18207329178,2647950108],\"yaxis\":\"y\",\"type\":\"scatter\"},{\"alignmentgroup\":\"True\",\"boxpoints\":\"all\",\"fillcolor\":\"rgba(255,255,255,0)\",\"hoveron\":\"points\",\"hovertemplate\":\"category=News & Politics<br>video views=%{y}<extra></extra>\",\"jitter\":0,\"legendgroup\":\"News & Politics\",\"line\":{\"color\":\"rgba(255,255,255,0)\"},\"marker\":{\"color\":\"#FECB52\",\"symbol\":\"line-ew-open\"},\"name\":\"News & Politics\",\"offsetgroup\":\"News & Politics\",\"showlegend\":false,\"xaxis\":\"x2\",\"y\":[18207329178,2647950108],\"yaxis\":\"y2\",\"type\":\"box\"},{\"hovertemplate\":\"category=Comedy <br>subscribers=%{x}<br>video views=%{marker.size}<extra></extra>\",\"legendgroup\":\"Comedy \",\"marker\":{\"color\":\"#636efa\",\"size\":[4056749823,7351172092,2844277672,14403267858],\"sizemode\":\"area\",\"sizeref\":75229567.6116,\"symbol\":\"circle\"},\"mode\":\"markers\",\"name\":\"Comedy \",\"orientation\":\"v\",\"showlegend\":true,\"x\":[43700000,38500000,35200000,34500000],\"xaxis\":\"x\",\"y\":[4056749823,7351172092,2844277672,14403267858],\"yaxis\":\"y\",\"type\":\"scatter\"},{\"alignmentgroup\":\"True\",\"boxpoints\":\"all\",\"fillcolor\":\"rgba(255,255,255,0)\",\"hoveron\":\"points\",\"hovertemplate\":\"category=Comedy <br>video views=%{y}<extra></extra>\",\"jitter\":0,\"legendgroup\":\"Comedy \",\"line\":{\"color\":\"rgba(255,255,255,0)\"},\"marker\":{\"color\":\"#636efa\",\"symbol\":\"line-ew-open\"},\"name\":\"Comedy \",\"offsetgroup\":\"Comedy \",\"showlegend\":false,\"xaxis\":\"x2\",\"y\":[4056749823,7351172092,2844277672,14403267858],\"yaxis\":\"y2\",\"type\":\"box\"},{\"hovertemplate\":\"category=Trailers <br>subscribers=%{x}<br>video views=%{marker.size}<extra></extra>\",\"legendgroup\":\"Trailers \",\"marker\":{\"color\":\"#EF553B\",\"size\":[14208873860],\"sizemode\":\"area\",\"sizeref\":75229567.6116,\"symbol\":\"circle\"},\"mode\":\"markers\",\"name\":\"Trailers \",\"orientation\":\"v\",\"showlegend\":true,\"x\":[36600000],\"xaxis\":\"x\",\"y\":[14208873860],\"yaxis\":\"y\",\"type\":\"scatter\"},{\"alignmentgroup\":\"True\",\"boxpoints\":\"all\",\"fillcolor\":\"rgba(255,255,255,0)\",\"hoveron\":\"points\",\"hovertemplate\":\"category=Trailers <br>video views=%{y}<extra></extra>\",\"jitter\":0,\"legendgroup\":\"Trailers \",\"line\":{\"color\":\"rgba(255,255,255,0)\"},\"marker\":{\"color\":\"#EF553B\",\"symbol\":\"line-ew-open\"},\"name\":\"Trailers \",\"offsetgroup\":\"Trailers \",\"showlegend\":false,\"xaxis\":\"x2\",\"y\":[14208873860],\"yaxis\":\"y2\",\"type\":\"box\"},{\"hovertemplate\":\"category=Nonprofits & Activism <br>subscribers=%{x}<br>video views=%{marker.size}<extra></extra>\",\"legendgroup\":\"Nonprofits & Activism \",\"marker\":{\"color\":\"#00cc96\",\"size\":[6356262947],\"sizemode\":\"area\",\"sizeref\":75229567.6116,\"symbol\":\"circle\"},\"mode\":\"markers\",\"name\":\"Nonprofits & Activism \",\"orientation\":\"v\",\"showlegend\":true,\"x\":[34500000],\"xaxis\":\"x\",\"y\":[6356262947],\"yaxis\":\"y\",\"type\":\"scatter\"},{\"alignmentgroup\":\"True\",\"boxpoints\":\"all\",\"fillcolor\":\"rgba(255,255,255,0)\",\"hoveron\":\"points\",\"hovertemplate\":\"category=Nonprofits & Activism <br>video views=%{y}<extra></extra>\",\"jitter\":0,\"legendgroup\":\"Nonprofits & Activism \",\"line\":{\"color\":\"rgba(255,255,255,0)\"},\"marker\":{\"color\":\"#00cc96\",\"symbol\":\"line-ew-open\"},\"name\":\"Nonprofits & Activism \",\"offsetgroup\":\"Nonprofits & Activism \",\"showlegend\":false,\"xaxis\":\"x2\",\"y\":[6356262947],\"yaxis\":\"y2\",\"type\":\"box\"}],                        {\"template\":{\"data\":{\"histogram2dcontour\":[{\"type\":\"histogram2dcontour\",\"colorbar\":{\"outlinewidth\":0,\"ticks\":\"\"},\"colorscale\":[[0.0,\"#0d0887\"],[0.1111111111111111,\"#46039f\"],[0.2222222222222222,\"#7201a8\"],[0.3333333333333333,\"#9c179e\"],[0.4444444444444444,\"#bd3786\"],[0.5555555555555556,\"#d8576b\"],[0.6666666666666666,\"#ed7953\"],[0.7777777777777778,\"#fb9f3a\"],[0.8888888888888888,\"#fdca26\"],[1.0,\"#f0f921\"]]}],\"choropleth\":[{\"type\":\"choropleth\",\"colorbar\":{\"outlinewidth\":0,\"ticks\":\"\"}}],\"histogram2d\":[{\"type\":\"histogram2d\",\"colorbar\":{\"outlinewidth\":0,\"ticks\":\"\"},\"colorscale\":[[0.0,\"#0d0887\"],[0.1111111111111111,\"#46039f\"],[0.2222222222222222,\"#7201a8\"],[0.3333333333333333,\"#9c179e\"],[0.4444444444444444,\"#bd3786\"],[0.5555555555555556,\"#d8576b\"],[0.6666666666666666,\"#ed7953\"],[0.7777777777777778,\"#fb9f3a\"],[0.8888888888888888,\"#fdca26\"],[1.0,\"#f0f921\"]]}],\"heatmap\":[{\"type\":\"heatmap\",\"colorbar\":{\"outlinewidth\":0,\"ticks\":\"\"},\"colorscale\":[[0.0,\"#0d0887\"],[0.1111111111111111,\"#46039f\"],[0.2222222222222222,\"#7201a8\"],[0.3333333333333333,\"#9c179e\"],[0.4444444444444444,\"#bd3786\"],[0.5555555555555556,\"#d8576b\"],[0.6666666666666666,\"#ed7953\"],[0.7777777777777778,\"#fb9f3a\"],[0.8888888888888888,\"#fdca26\"],[1.0,\"#f0f921\"]]}],\"heatmapgl\":[{\"type\":\"heatmapgl\",\"colorbar\":{\"outlinewidth\":0,\"ticks\":\"\"},\"colorscale\":[[0.0,\"#0d0887\"],[0.1111111111111111,\"#46039f\"],[0.2222222222222222,\"#7201a8\"],[0.3333333333333333,\"#9c179e\"],[0.4444444444444444,\"#bd3786\"],[0.5555555555555556,\"#d8576b\"],[0.6666666666666666,\"#ed7953\"],[0.7777777777777778,\"#fb9f3a\"],[0.8888888888888888,\"#fdca26\"],[1.0,\"#f0f921\"]]}],\"contourcarpet\":[{\"type\":\"contourcarpet\",\"colorbar\":{\"outlinewidth\":0,\"ticks\":\"\"}}],\"contour\":[{\"type\":\"contour\",\"colorbar\":{\"outlinewidth\":0,\"ticks\":\"\"},\"colorscale\":[[0.0,\"#0d0887\"],[0.1111111111111111,\"#46039f\"],[0.2222222222222222,\"#7201a8\"],[0.3333333333333333,\"#9c179e\"],[0.4444444444444444,\"#bd3786\"],[0.5555555555555556,\"#d8576b\"],[0.6666666666666666,\"#ed7953\"],[0.7777777777777778,\"#fb9f3a\"],[0.8888888888888888,\"#fdca26\"],[1.0,\"#f0f921\"]]}],\"surface\":[{\"type\":\"surface\",\"colorbar\":{\"outlinewidth\":0,\"ticks\":\"\"},\"colorscale\":[[0.0,\"#0d0887\"],[0.1111111111111111,\"#46039f\"],[0.2222222222222222,\"#7201a8\"],[0.3333333333333333,\"#9c179e\"],[0.4444444444444444,\"#bd3786\"],[0.5555555555555556,\"#d8576b\"],[0.6666666666666666,\"#ed7953\"],[0.7777777777777778,\"#fb9f3a\"],[0.8888888888888888,\"#fdca26\"],[1.0,\"#f0f921\"]]}],\"mesh3d\":[{\"type\":\"mesh3d\",\"colorbar\":{\"outlinewidth\":0,\"ticks\":\"\"}}],\"scatter\":[{\"fillpattern\":{\"fillmode\":\"overlay\",\"size\":10,\"solidity\":0.2},\"type\":\"scatter\"}],\"parcoords\":[{\"type\":\"parcoords\",\"line\":{\"colorbar\":{\"outlinewidth\":0,\"ticks\":\"\"}}}],\"scatterpolargl\":[{\"type\":\"scatterpolargl\",\"marker\":{\"colorbar\":{\"outlinewidth\":0,\"ticks\":\"\"}}}],\"bar\":[{\"error_x\":{\"color\":\"#2a3f5f\"},\"error_y\":{\"color\":\"#2a3f5f\"},\"marker\":{\"line\":{\"color\":\"#E5ECF6\",\"width\":0.5},\"pattern\":{\"fillmode\":\"overlay\",\"size\":10,\"solidity\":0.2}},\"type\":\"bar\"}],\"scattergeo\":[{\"type\":\"scattergeo\",\"marker\":{\"colorbar\":{\"outlinewidth\":0,\"ticks\":\"\"}}}],\"scatterpolar\":[{\"type\":\"scatterpolar\",\"marker\":{\"colorbar\":{\"outlinewidth\":0,\"ticks\":\"\"}}}],\"histogram\":[{\"marker\":{\"pattern\":{\"fillmode\":\"overlay\",\"size\":10,\"solidity\":0.2}},\"type\":\"histogram\"}],\"scattergl\":[{\"type\":\"scattergl\",\"marker\":{\"colorbar\":{\"outlinewidth\":0,\"ticks\":\"\"}}}],\"scatter3d\":[{\"type\":\"scatter3d\",\"line\":{\"colorbar\":{\"outlinewidth\":0,\"ticks\":\"\"}},\"marker\":{\"colorbar\":{\"outlinewidth\":0,\"ticks\":\"\"}}}],\"scattermapbox\":[{\"type\":\"scattermapbox\",\"marker\":{\"colorbar\":{\"outlinewidth\":0,\"ticks\":\"\"}}}],\"scatterternary\":[{\"type\":\"scatterternary\",\"marker\":{\"colorbar\":{\"outlinewidth\":0,\"ticks\":\"\"}}}],\"scattercarpet\":[{\"type\":\"scattercarpet\",\"marker\":{\"colorbar\":{\"outlinewidth\":0,\"ticks\":\"\"}}}],\"carpet\":[{\"aaxis\":{\"endlinecolor\":\"#2a3f5f\",\"gridcolor\":\"white\",\"linecolor\":\"white\",\"minorgridcolor\":\"white\",\"startlinecolor\":\"#2a3f5f\"},\"baxis\":{\"endlinecolor\":\"#2a3f5f\",\"gridcolor\":\"white\",\"linecolor\":\"white\",\"minorgridcolor\":\"white\",\"startlinecolor\":\"#2a3f5f\"},\"type\":\"carpet\"}],\"table\":[{\"cells\":{\"fill\":{\"color\":\"#EBF0F8\"},\"line\":{\"color\":\"white\"}},\"header\":{\"fill\":{\"color\":\"#C8D4E3\"},\"line\":{\"color\":\"white\"}},\"type\":\"table\"}],\"barpolar\":[{\"marker\":{\"line\":{\"color\":\"#E5ECF6\",\"width\":0.5},\"pattern\":{\"fillmode\":\"overlay\",\"size\":10,\"solidity\":0.2}},\"type\":\"barpolar\"}],\"pie\":[{\"automargin\":true,\"type\":\"pie\"}]},\"layout\":{\"autotypenumbers\":\"strict\",\"colorway\":[\"#636efa\",\"#EF553B\",\"#00cc96\",\"#ab63fa\",\"#FFA15A\",\"#19d3f3\",\"#FF6692\",\"#B6E880\",\"#FF97FF\",\"#FECB52\"],\"font\":{\"color\":\"#2a3f5f\"},\"hovermode\":\"closest\",\"hoverlabel\":{\"align\":\"left\"},\"paper_bgcolor\":\"white\",\"plot_bgcolor\":\"#E5ECF6\",\"polar\":{\"bgcolor\":\"#E5ECF6\",\"angularaxis\":{\"gridcolor\":\"white\",\"linecolor\":\"white\",\"ticks\":\"\"},\"radialaxis\":{\"gridcolor\":\"white\",\"linecolor\":\"white\",\"ticks\":\"\"}},\"ternary\":{\"bgcolor\":\"#E5ECF6\",\"aaxis\":{\"gridcolor\":\"white\",\"linecolor\":\"white\",\"ticks\":\"\"},\"baxis\":{\"gridcolor\":\"white\",\"linecolor\":\"white\",\"ticks\":\"\"},\"caxis\":{\"gridcolor\":\"white\",\"linecolor\":\"white\",\"ticks\":\"\"}},\"coloraxis\":{\"colorbar\":{\"outlinewidth\":0,\"ticks\":\"\"}},\"colorscale\":{\"sequential\":[[0.0,\"#0d0887\"],[0.1111111111111111,\"#46039f\"],[0.2222222222222222,\"#7201a8\"],[0.3333333333333333,\"#9c179e\"],[0.4444444444444444,\"#bd3786\"],[0.5555555555555556,\"#d8576b\"],[0.6666666666666666,\"#ed7953\"],[0.7777777777777778,\"#fb9f3a\"],[0.8888888888888888,\"#fdca26\"],[1.0,\"#f0f921\"]],\"sequentialminus\":[[0.0,\"#0d0887\"],[0.1111111111111111,\"#46039f\"],[0.2222222222222222,\"#7201a8\"],[0.3333333333333333,\"#9c179e\"],[0.4444444444444444,\"#bd3786\"],[0.5555555555555556,\"#d8576b\"],[0.6666666666666666,\"#ed7953\"],[0.7777777777777778,\"#fb9f3a\"],[0.8888888888888888,\"#fdca26\"],[1.0,\"#f0f921\"]],\"diverging\":[[0,\"#8e0152\"],[0.1,\"#c51b7d\"],[0.2,\"#de77ae\"],[0.3,\"#f1b6da\"],[0.4,\"#fde0ef\"],[0.5,\"#f7f7f7\"],[0.6,\"#e6f5d0\"],[0.7,\"#b8e186\"],[0.8,\"#7fbc41\"],[0.9,\"#4d9221\"],[1,\"#276419\"]]},\"xaxis\":{\"gridcolor\":\"white\",\"linecolor\":\"white\",\"ticks\":\"\",\"title\":{\"standoff\":15},\"zerolinecolor\":\"white\",\"automargin\":true,\"zerolinewidth\":2},\"yaxis\":{\"gridcolor\":\"white\",\"linecolor\":\"white\",\"ticks\":\"\",\"title\":{\"standoff\":15},\"zerolinecolor\":\"white\",\"automargin\":true,\"zerolinewidth\":2},\"scene\":{\"xaxis\":{\"backgroundcolor\":\"#E5ECF6\",\"gridcolor\":\"white\",\"linecolor\":\"white\",\"showbackground\":true,\"ticks\":\"\",\"zerolinecolor\":\"white\",\"gridwidth\":2},\"yaxis\":{\"backgroundcolor\":\"#E5ECF6\",\"gridcolor\":\"white\",\"linecolor\":\"white\",\"showbackground\":true,\"ticks\":\"\",\"zerolinecolor\":\"white\",\"gridwidth\":2},\"zaxis\":{\"backgroundcolor\":\"#E5ECF6\",\"gridcolor\":\"white\",\"linecolor\":\"white\",\"showbackground\":true,\"ticks\":\"\",\"zerolinecolor\":\"white\",\"gridwidth\":2}},\"shapedefaults\":{\"line\":{\"color\":\"#2a3f5f\"}},\"annotationdefaults\":{\"arrowcolor\":\"#2a3f5f\",\"arrowhead\":0,\"arrowwidth\":1},\"geo\":{\"bgcolor\":\"white\",\"landcolor\":\"#E5ECF6\",\"subunitcolor\":\"white\",\"showland\":true,\"showlakes\":true,\"lakecolor\":\"white\"},\"title\":{\"x\":0.05},\"mapbox\":{\"style\":\"light\"}}},\"xaxis\":{\"anchor\":\"y\",\"domain\":[0.0,0.7363],\"type\":\"log\",\"title\":{\"text\":\"subscribers\"}},\"yaxis\":{\"anchor\":\"x\",\"domain\":[0.0,1.0],\"title\":{\"text\":\"video views\"}},\"xaxis2\":{\"anchor\":\"y2\",\"domain\":[0.7413,1.0],\"matches\":\"x2\",\"showticklabels\":false,\"showline\":false,\"ticks\":\"\",\"showgrid\":false},\"yaxis2\":{\"anchor\":\"x2\",\"domain\":[0.0,1.0],\"matches\":\"y\",\"showticklabels\":false,\"showgrid\":true},\"legend\":{\"title\":{\"text\":\"category\"},\"tracegroupgap\":0,\"itemsizing\":\"constant\"},\"title\":{\"text\":\"Categories with Video views and Subscribers\"}},                        {\"responsive\": true}                    ).then(function(){\n",
       "                            \n",
       "var gd = document.getElementById('9d04f89e-cd12-4e62-936d-7a8f7f9e205c');\n",
       "var x = new MutationObserver(function (mutations, observer) {{\n",
       "        var display = window.getComputedStyle(gd).display;\n",
       "        if (!display || display === 'none') {{\n",
       "            console.log([gd, 'removed!']);\n",
       "            Plotly.purge(gd);\n",
       "            observer.disconnect();\n",
       "        }}\n",
       "}});\n",
       "\n",
       "// Listen for the removal of the full notebook cells\n",
       "var notebookContainer = gd.closest('#notebook-container');\n",
       "if (notebookContainer) {{\n",
       "    x.observe(notebookContainer, {childList: true});\n",
       "}}\n",
       "\n",
       "// Listen for the clearing of the current output cell\n",
       "var outputEl = gd.closest('.output');\n",
       "if (outputEl) {{\n",
       "    x.observe(outputEl, {childList: true});\n",
       "}}\n",
       "\n",
       "                        })                };                });            </script>        </div>"
      ]
     },
     "metadata": {},
     "output_type": "display_data"
    }
   ],
   "source": [
    "fig = px.scatter(df, x=\"subscribers\", y=\"video views\",\n",
    "                 size=\"video views\", color=\"category\",\n",
    "                 log_x=True, size_max=50,\n",
    "                 title=\"Categories with Video views and Subscribers\",\n",
    "                 marginal_y='rug')\n",
    "fig.show()"
   ]
  },
  {
   "cell_type": "markdown",
   "id": "c00dedb4",
   "metadata": {
    "papermill": {
     "duration": 0.025799,
     "end_time": "2022-08-14T03:16:56.854728",
     "exception": false,
     "start_time": "2022-08-14T03:16:56.828929",
     "status": "completed"
    },
    "tags": []
   },
   "source": [
    " <h2 style=\"color:#0B5394;font-size: 1em \"><b>Categories with Video views and Video count"
   ]
  },
  {
   "cell_type": "code",
   "execution_count": 31,
   "id": "7fe4cab9",
   "metadata": {
    "execution": {
     "iopub.execute_input": "2022-08-14T03:16:56.906230Z",
     "iopub.status.busy": "2022-08-14T03:16:56.904828Z",
     "iopub.status.idle": "2022-08-14T03:16:57.104724Z",
     "shell.execute_reply": "2022-08-14T03:16:57.103311Z"
    },
    "papermill": {
     "duration": 0.22872,
     "end_time": "2022-08-14T03:16:57.107717",
     "exception": false,
     "start_time": "2022-08-14T03:16:56.878997",
     "status": "completed"
    },
    "tags": []
   },
   "outputs": [
    {
     "data": {
      "text/html": [
       "<div>                            <div id=\"487cb6ee-3d37-454f-afca-dab4350ba5ff\" class=\"plotly-graph-div\" style=\"height:525px; width:100%;\"></div>            <script type=\"text/javascript\">                require([\"plotly\"], function(Plotly) {                    window.PLOTLYENV=window.PLOTLYENV || {};                                    if (document.getElementById(\"487cb6ee-3d37-454f-afca-dab4350ba5ff\")) {                    Plotly.newPlot(                        \"487cb6ee-3d37-454f-afca-dab4350ba5ff\",                        [{\"hovertemplate\":\"category=Music <br>video count=%{x}<br>video views=%{marker.size}<extra></extra>\",\"legendgroup\":\"Music \",\"marker\":{\"color\":\"#636efa\",\"size\":[188073919029,46291230294,27701817623,36145092618,15827521495,22230010723,27266280091,36012717623,22733757739,26988082012,21549846530,23567472626,26034278484,22797147163,47232834583,28034396603,24711297896,11412714912,23477006711,11358287657,22855070416,23698345670,19328721596,23244187762,12395170322,9439987125,19516597967,20238289703,20471335787,16706459290,20881421568,13405543587,9115577588],\"sizemode\":\"area\",\"sizeref\":75229567.6116,\"symbol\":\"circle\"},\"mode\":\"markers\",\"name\":\"Music \",\"orientation\":\"v\",\"showlegend\":true,\"x\":[16708,6265,243,2252,1686,819,7626,18630,138,240,146,3031,3379,23183,1222,505,189,45,113,302,3228,10065,98,4067,157,114,409,163,137,95,129,2925,122],\"xaxis\":\"x\",\"y\":[188073919029,46291230294,27701817623,36145092618,15827521495,22230010723,27266280091,36012717623,22733757739,26988082012,21549846530,23567472626,26034278484,22797147163,47232834583,28034396603,24711297896,11412714912,23477006711,11358287657,22855070416,23698345670,19328721596,23244187762,12395170322,9439987125,19516597967,20238289703,20471335787,16706459290,20881421568,13405543587,9115577588],\"yaxis\":\"y\",\"type\":\"scatter\"},{\"alignmentgroup\":\"True\",\"boxpoints\":\"all\",\"fillcolor\":\"rgba(255,255,255,0)\",\"hoveron\":\"points\",\"hovertemplate\":\"category=Music <br>video views=%{y}<extra></extra>\",\"jitter\":0,\"legendgroup\":\"Music \",\"line\":{\"color\":\"rgba(255,255,255,0)\"},\"marker\":{\"color\":\"#636efa\",\"symbol\":\"line-ew-open\"},\"name\":\"Music \",\"offsetgroup\":\"Music \",\"showlegend\":false,\"xaxis\":\"x2\",\"y\":[188073919029,46291230294,27701817623,36145092618,15827521495,22230010723,27266280091,36012717623,22733757739,26988082012,21549846530,23567472626,26034278484,22797147163,47232834583,28034396603,24711297896,11412714912,23477006711,11358287657,22855070416,23698345670,19328721596,23244187762,12395170322,9439987125,19516597967,20238289703,20471335787,16706459290,20881421568,13405543587,9115577588],\"yaxis\":\"y2\",\"type\":\"box\"},{\"hovertemplate\":\"category=Education <br>video count=%{x}<br>video views=%{marker.size}<extra></extra>\",\"legendgroup\":\"Education \",\"marker\":{\"color\":\"#EF553B\",\"size\":[126822520940,30097233928,37609551674,24014102724,35945824996,35216710205],\"sizemode\":\"area\",\"sizeref\":75229567.6116,\"symbol\":\"circle\"},\"mode\":\"markers\",\"name\":\"Education \",\"orientation\":\"v\",\"showlegend\":true,\"x\":[751,2227,474,462,1728,587],\"xaxis\":\"x\",\"y\":[126822520940,30097233928,37609551674,24014102724,35945824996,35216710205],\"yaxis\":\"y\",\"type\":\"scatter\"},{\"alignmentgroup\":\"True\",\"boxpoints\":\"all\",\"fillcolor\":\"rgba(255,255,255,0)\",\"hoveron\":\"points\",\"hovertemplate\":\"category=Education <br>video views=%{y}<extra></extra>\",\"jitter\":0,\"legendgroup\":\"Education \",\"line\":{\"color\":\"rgba(255,255,255,0)\"},\"marker\":{\"color\":\"#EF553B\",\"symbol\":\"line-ew-open\"},\"name\":\"Education \",\"offsetgroup\":\"Education \",\"showlegend\":false,\"xaxis\":\"x2\",\"y\":[126822520940,30097233928,37609551674,24014102724,35945824996,35216710205],\"yaxis\":\"y2\",\"type\":\"box\"},{\"hovertemplate\":\"category=Shows <br>video count=%{x}<br>video views=%{marker.size}<extra></extra>\",\"legendgroup\":\"Shows \",\"marker\":{\"color\":\"#00cc96\",\"size\":[101541977714,75885489073,48868988091,17999127339],\"sizemode\":\"area\",\"sizeref\":75229567.6116,\"symbol\":\"circle\"},\"mode\":\"markers\",\"name\":\"Shows \",\"orientation\":\"v\",\"showlegend\":true,\"x\":[78334,50810,78851,872],\"xaxis\":\"x\",\"y\":[101541977714,75885489073,48868988091,17999127339],\"yaxis\":\"y\",\"type\":\"scatter\"},{\"alignmentgroup\":\"True\",\"boxpoints\":\"all\",\"fillcolor\":\"rgba(255,255,255,0)\",\"hoveron\":\"points\",\"hovertemplate\":\"category=Shows <br>video views=%{y}<extra></extra>\",\"jitter\":0,\"legendgroup\":\"Shows \",\"line\":{\"color\":\"rgba(255,255,255,0)\"},\"marker\":{\"color\":\"#00cc96\",\"symbol\":\"line-ew-open\"},\"name\":\"Shows \",\"offsetgroup\":\"Shows \",\"showlegend\":false,\"xaxis\":\"x2\",\"y\":[101541977714,75885489073,48868988091,17999127339],\"yaxis\":\"y2\",\"type\":\"box\"},{\"hovertemplate\":\"category=Gaming <br>video count=%{x}<br>video views=%{marker.size}<extra></extra>\",\"legendgroup\":\"Gaming \",\"marker\":{\"color\":\"#ab63fa\",\"size\":[28260779633,13400179485,9834587080,7429801800,14391209548,14724851921,18011837263],\"sizemode\":\"area\",\"sizeref\":75229567.6116,\"symbol\":\"circle\"},\"mode\":\"markers\",\"name\":\"Gaming \",\"orientation\":\"v\",\"showlegend\":true,\"x\":[4472,1918,541,704,582,7007,5129],\"xaxis\":\"x\",\"y\":[28260779633,13400179485,9834587080,7429801800,14391209548,14724851921,18011837263],\"yaxis\":\"y\",\"type\":\"scatter\"},{\"alignmentgroup\":\"True\",\"boxpoints\":\"all\",\"fillcolor\":\"rgba(255,255,255,0)\",\"hoveron\":\"points\",\"hovertemplate\":\"category=Gaming <br>video views=%{y}<extra></extra>\",\"jitter\":0,\"legendgroup\":\"Gaming \",\"line\":{\"color\":\"rgba(255,255,255,0)\"},\"marker\":{\"color\":\"#ab63fa\",\"symbol\":\"line-ew-open\"},\"name\":\"Gaming \",\"offsetgroup\":\"Gaming \",\"showlegend\":false,\"xaxis\":\"x2\",\"y\":[28260779633,13400179485,9834587080,7429801800,14391209548,14724851921,18011837263],\"yaxis\":\"y2\",\"type\":\"box\"},{\"hovertemplate\":\"category=Entertainment <br>video count=%{x}<br>video views=%{marker.size}<extra></extra>\",\"legendgroup\":\"Entertainment \",\"marker\":{\"color\":\"#FFA15A\",\"size\":[15417304461,62444514631,15900076809,12967930243,18388171178,14903103358,4702061823,7061556772,18474229002,27941044582,19498773786,22040498763,16096496089,32750254533,19282156578,38339684179,26302194542,15144858210,51312603726],\"sizemode\":\"area\",\"sizeref\":75229567.6116,\"symbol\":\"circle\"},\"mode\":\"markers\",\"name\":\"Entertainment \",\"orientation\":\"v\",\"showlegend\":true,\"x\":[721,443,59332,393,11549,3305,136,1253,551,3746,79,14084,2875,58916,8955,765,122287,584,2155],\"xaxis\":\"x\",\"y\":[15417304461,62444514631,15900076809,12967930243,18388171178,14903103358,4702061823,7061556772,18474229002,27941044582,19498773786,22040498763,16096496089,32750254533,19282156578,38339684179,26302194542,15144858210,51312603726],\"yaxis\":\"y\",\"type\":\"scatter\"},{\"alignmentgroup\":\"True\",\"boxpoints\":\"all\",\"fillcolor\":\"rgba(255,255,255,0)\",\"hoveron\":\"points\",\"hovertemplate\":\"category=Entertainment <br>video views=%{y}<extra></extra>\",\"jitter\":0,\"legendgroup\":\"Entertainment \",\"line\":{\"color\":\"rgba(255,255,255,0)\"},\"marker\":{\"color\":\"#FFA15A\",\"symbol\":\"line-ew-open\"},\"name\":\"Entertainment \",\"offsetgroup\":\"Entertainment \",\"showlegend\":false,\"xaxis\":\"x2\",\"y\":[15417304461,62444514631,15900076809,12967930243,18388171178,14903103358,4702061823,7061556772,18474229002,27941044582,19498773786,22040498763,16096496089,32750254533,19282156578,38339684179,26302194542,15144858210,51312603726],\"yaxis\":\"y2\",\"type\":\"box\"},{\"hovertemplate\":\"category=People & Blogs <br>video count=%{x}<br>video views=%{marker.size}<extra></extra>\",\"legendgroup\":\"People & Blogs \",\"marker\":{\"color\":\"#19d3f3\",\"size\":[73296417664,74204846514,23351994944,46162631485,19721474289,3997275983,22591879625,18171683239,19676656583,9850740503],\"sizemode\":\"area\",\"sizeref\":75229567.6116,\"symbol\":\"circle\"},\"mode\":\"markers\",\"name\":\"People & Blogs \",\"orientation\":\"v\",\"showlegend\":true,\"x\":[977,670,394,173988,1781,197,269,795,1224,209351],\"xaxis\":\"x\",\"y\":[73296417664,74204846514,23351994944,46162631485,19721474289,3997275983,22591879625,18171683239,19676656583,9850740503],\"yaxis\":\"y\",\"type\":\"scatter\"},{\"alignmentgroup\":\"True\",\"boxpoints\":\"all\",\"fillcolor\":\"rgba(255,255,255,0)\",\"hoveron\":\"points\",\"hovertemplate\":\"category=People & Blogs <br>video views=%{y}<extra></extra>\",\"jitter\":0,\"legendgroup\":\"People & Blogs \",\"line\":{\"color\":\"rgba(255,255,255,0)\"},\"marker\":{\"color\":\"#19d3f3\",\"symbol\":\"line-ew-open\"},\"name\":\"People & Blogs \",\"offsetgroup\":\"People & Blogs \",\"showlegend\":false,\"xaxis\":\"x2\",\"y\":[73296417664,74204846514,23351994944,46162631485,19721474289,3997275983,22591879625,18171683239,19676656583,9850740503],\"yaxis\":\"y2\",\"type\":\"box\"},{\"hovertemplate\":\"category=Sports <br>video count=%{x}<br>video views=%{marker.size}<extra></extra>\",\"legendgroup\":\"Sports \",\"marker\":{\"color\":\"#FF6692\",\"size\":[67960479071,14219518587],\"sizemode\":\"area\",\"sizeref\":75229567.6116,\"symbol\":\"circle\"},\"mode\":\"markers\",\"name\":\"Sports \",\"orientation\":\"v\",\"showlegend\":true,\"x\":[60699,287],\"xaxis\":\"x\",\"y\":[67960479071,14219518587],\"yaxis\":\"y\",\"type\":\"scatter\"},{\"alignmentgroup\":\"True\",\"boxpoints\":\"all\",\"fillcolor\":\"rgba(255,255,255,0)\",\"hoveron\":\"points\",\"hovertemplate\":\"category=Sports <br>video views=%{y}<extra></extra>\",\"jitter\":0,\"legendgroup\":\"Sports \",\"line\":{\"color\":\"rgba(255,255,255,0)\"},\"marker\":{\"color\":\"#FF6692\",\"symbol\":\"line-ew-open\"},\"name\":\"Sports \",\"offsetgroup\":\"Sports \",\"showlegend\":false,\"xaxis\":\"x2\",\"y\":[67960479071,14219518587],\"yaxis\":\"y2\",\"type\":\"box\"},{\"hovertemplate\":\"category=How to & Style <br>video count=%{x}<br>video views=%{marker.size}<extra></extra>\",\"legendgroup\":\"How to & Style \",\"marker\":{\"color\":\"#B6E880\",\"size\":[23174639387,9762131005],\"sizemode\":\"area\",\"sizeref\":75229567.6116,\"symbol\":\"circle\"},\"mode\":\"markers\",\"name\":\"How to & Style \",\"orientation\":\"v\",\"showlegend\":true,\"x\":[5281,4843],\"xaxis\":\"x\",\"y\":[23174639387,9762131005],\"yaxis\":\"y\",\"type\":\"scatter\"},{\"alignmentgroup\":\"True\",\"boxpoints\":\"all\",\"fillcolor\":\"rgba(255,255,255,0)\",\"hoveron\":\"points\",\"hovertemplate\":\"category=How to & Style <br>video views=%{y}<extra></extra>\",\"jitter\":0,\"legendgroup\":\"How to & Style \",\"line\":{\"color\":\"rgba(255,255,255,0)\"},\"marker\":{\"color\":\"#B6E880\",\"symbol\":\"line-ew-open\"},\"name\":\"How to & Style \",\"offsetgroup\":\"How to & Style \",\"showlegend\":false,\"xaxis\":\"x2\",\"y\":[23174639387,9762131005],\"yaxis\":\"y2\",\"type\":\"box\"},{\"hovertemplate\":\"category=Film & Animation <br>video count=%{x}<br>video views=%{marker.size}<extra></extra>\",\"legendgroup\":\"Film & Animation \",\"marker\":{\"color\":\"#FF97FF\",\"size\":[16271446682,57317911331,27290750378,31845287102],\"sizemode\":\"area\",\"sizeref\":75229567.6116,\"symbol\":\"circle\"},\"mode\":\"markers\",\"name\":\"Film & Animation \",\"orientation\":\"v\",\"showlegend\":true,\"x\":[3050,38746,3131,1139],\"xaxis\":\"x\",\"y\":[16271446682,57317911331,27290750378,31845287102],\"yaxis\":\"y\",\"type\":\"scatter\"},{\"alignmentgroup\":\"True\",\"boxpoints\":\"all\",\"fillcolor\":\"rgba(255,255,255,0)\",\"hoveron\":\"points\",\"hovertemplate\":\"category=Film & Animation <br>video views=%{y}<extra></extra>\",\"jitter\":0,\"legendgroup\":\"Film & Animation \",\"line\":{\"color\":\"rgba(255,255,255,0)\"},\"marker\":{\"color\":\"#FF97FF\",\"symbol\":\"line-ew-open\"},\"name\":\"Film & Animation \",\"offsetgroup\":\"Film & Animation \",\"showlegend\":false,\"xaxis\":\"x2\",\"y\":[16271446682,57317911331,27290750378,31845287102],\"yaxis\":\"y2\",\"type\":\"box\"},{\"hovertemplate\":\"category=News & Politics<br>video count=%{x}<br>video views=%{marker.size}<extra></extra>\",\"legendgroup\":\"News & Politics\",\"marker\":{\"color\":\"#FECB52\",\"size\":[18207329178,2647950108],\"sizemode\":\"area\",\"sizeref\":75229567.6116,\"symbol\":\"circle\"},\"mode\":\"markers\",\"name\":\"News & Politics\",\"orientation\":\"v\",\"showlegend\":true,\"x\":[175877,483],\"xaxis\":\"x\",\"y\":[18207329178,2647950108],\"yaxis\":\"y\",\"type\":\"scatter\"},{\"alignmentgroup\":\"True\",\"boxpoints\":\"all\",\"fillcolor\":\"rgba(255,255,255,0)\",\"hoveron\":\"points\",\"hovertemplate\":\"category=News & Politics<br>video views=%{y}<extra></extra>\",\"jitter\":0,\"legendgroup\":\"News & Politics\",\"line\":{\"color\":\"rgba(255,255,255,0)\"},\"marker\":{\"color\":\"#FECB52\",\"symbol\":\"line-ew-open\"},\"name\":\"News & Politics\",\"offsetgroup\":\"News & Politics\",\"showlegend\":false,\"xaxis\":\"x2\",\"y\":[18207329178,2647950108],\"yaxis\":\"y2\",\"type\":\"box\"},{\"hovertemplate\":\"category=Comedy <br>video count=%{x}<br>video views=%{marker.size}<extra></extra>\",\"legendgroup\":\"Comedy \",\"marker\":{\"color\":\"#636efa\",\"size\":[4056749823,7351172092,2844277672,14403267858],\"sizemode\":\"area\",\"sizeref\":75229567.6116,\"symbol\":\"circle\"},\"mode\":\"markers\",\"name\":\"Comedy \",\"orientation\":\"v\",\"showlegend\":true,\"x\":[517,1103,177,186],\"xaxis\":\"x\",\"y\":[4056749823,7351172092,2844277672,14403267858],\"yaxis\":\"y\",\"type\":\"scatter\"},{\"alignmentgroup\":\"True\",\"boxpoints\":\"all\",\"fillcolor\":\"rgba(255,255,255,0)\",\"hoveron\":\"points\",\"hovertemplate\":\"category=Comedy <br>video views=%{y}<extra></extra>\",\"jitter\":0,\"legendgroup\":\"Comedy \",\"line\":{\"color\":\"rgba(255,255,255,0)\"},\"marker\":{\"color\":\"#636efa\",\"symbol\":\"line-ew-open\"},\"name\":\"Comedy \",\"offsetgroup\":\"Comedy \",\"showlegend\":false,\"xaxis\":\"x2\",\"y\":[4056749823,7351172092,2844277672,14403267858],\"yaxis\":\"y2\",\"type\":\"box\"},{\"hovertemplate\":\"category=Trailers <br>video count=%{x}<br>video views=%{marker.size}<extra></extra>\",\"legendgroup\":\"Trailers \",\"marker\":{\"color\":\"#EF553B\",\"size\":[14208873860],\"sizemode\":\"area\",\"sizeref\":75229567.6116,\"symbol\":\"circle\"},\"mode\":\"markers\",\"name\":\"Trailers \",\"orientation\":\"v\",\"showlegend\":true,\"x\":[4496],\"xaxis\":\"x\",\"y\":[14208873860],\"yaxis\":\"y\",\"type\":\"scatter\"},{\"alignmentgroup\":\"True\",\"boxpoints\":\"all\",\"fillcolor\":\"rgba(255,255,255,0)\",\"hoveron\":\"points\",\"hovertemplate\":\"category=Trailers <br>video views=%{y}<extra></extra>\",\"jitter\":0,\"legendgroup\":\"Trailers \",\"line\":{\"color\":\"rgba(255,255,255,0)\"},\"marker\":{\"color\":\"#EF553B\",\"symbol\":\"line-ew-open\"},\"name\":\"Trailers \",\"offsetgroup\":\"Trailers \",\"showlegend\":false,\"xaxis\":\"x2\",\"y\":[14208873860],\"yaxis\":\"y2\",\"type\":\"box\"},{\"hovertemplate\":\"category=Nonprofits & Activism <br>video count=%{x}<br>video views=%{marker.size}<extra></extra>\",\"legendgroup\":\"Nonprofits & Activism \",\"marker\":{\"color\":\"#00cc96\",\"size\":[6356262947],\"sizemode\":\"area\",\"sizeref\":75229567.6116,\"symbol\":\"circle\"},\"mode\":\"markers\",\"name\":\"Nonprofits & Activism \",\"orientation\":\"v\",\"showlegend\":true,\"x\":[179816],\"xaxis\":\"x\",\"y\":[6356262947],\"yaxis\":\"y\",\"type\":\"scatter\"},{\"alignmentgroup\":\"True\",\"boxpoints\":\"all\",\"fillcolor\":\"rgba(255,255,255,0)\",\"hoveron\":\"points\",\"hovertemplate\":\"category=Nonprofits & Activism <br>video views=%{y}<extra></extra>\",\"jitter\":0,\"legendgroup\":\"Nonprofits & Activism \",\"line\":{\"color\":\"rgba(255,255,255,0)\"},\"marker\":{\"color\":\"#00cc96\",\"symbol\":\"line-ew-open\"},\"name\":\"Nonprofits & Activism \",\"offsetgroup\":\"Nonprofits & Activism \",\"showlegend\":false,\"xaxis\":\"x2\",\"y\":[6356262947],\"yaxis\":\"y2\",\"type\":\"box\"}],                        {\"template\":{\"data\":{\"histogram2dcontour\":[{\"type\":\"histogram2dcontour\",\"colorbar\":{\"outlinewidth\":0,\"ticks\":\"\"},\"colorscale\":[[0.0,\"#0d0887\"],[0.1111111111111111,\"#46039f\"],[0.2222222222222222,\"#7201a8\"],[0.3333333333333333,\"#9c179e\"],[0.4444444444444444,\"#bd3786\"],[0.5555555555555556,\"#d8576b\"],[0.6666666666666666,\"#ed7953\"],[0.7777777777777778,\"#fb9f3a\"],[0.8888888888888888,\"#fdca26\"],[1.0,\"#f0f921\"]]}],\"choropleth\":[{\"type\":\"choropleth\",\"colorbar\":{\"outlinewidth\":0,\"ticks\":\"\"}}],\"histogram2d\":[{\"type\":\"histogram2d\",\"colorbar\":{\"outlinewidth\":0,\"ticks\":\"\"},\"colorscale\":[[0.0,\"#0d0887\"],[0.1111111111111111,\"#46039f\"],[0.2222222222222222,\"#7201a8\"],[0.3333333333333333,\"#9c179e\"],[0.4444444444444444,\"#bd3786\"],[0.5555555555555556,\"#d8576b\"],[0.6666666666666666,\"#ed7953\"],[0.7777777777777778,\"#fb9f3a\"],[0.8888888888888888,\"#fdca26\"],[1.0,\"#f0f921\"]]}],\"heatmap\":[{\"type\":\"heatmap\",\"colorbar\":{\"outlinewidth\":0,\"ticks\":\"\"},\"colorscale\":[[0.0,\"#0d0887\"],[0.1111111111111111,\"#46039f\"],[0.2222222222222222,\"#7201a8\"],[0.3333333333333333,\"#9c179e\"],[0.4444444444444444,\"#bd3786\"],[0.5555555555555556,\"#d8576b\"],[0.6666666666666666,\"#ed7953\"],[0.7777777777777778,\"#fb9f3a\"],[0.8888888888888888,\"#fdca26\"],[1.0,\"#f0f921\"]]}],\"heatmapgl\":[{\"type\":\"heatmapgl\",\"colorbar\":{\"outlinewidth\":0,\"ticks\":\"\"},\"colorscale\":[[0.0,\"#0d0887\"],[0.1111111111111111,\"#46039f\"],[0.2222222222222222,\"#7201a8\"],[0.3333333333333333,\"#9c179e\"],[0.4444444444444444,\"#bd3786\"],[0.5555555555555556,\"#d8576b\"],[0.6666666666666666,\"#ed7953\"],[0.7777777777777778,\"#fb9f3a\"],[0.8888888888888888,\"#fdca26\"],[1.0,\"#f0f921\"]]}],\"contourcarpet\":[{\"type\":\"contourcarpet\",\"colorbar\":{\"outlinewidth\":0,\"ticks\":\"\"}}],\"contour\":[{\"type\":\"contour\",\"colorbar\":{\"outlinewidth\":0,\"ticks\":\"\"},\"colorscale\":[[0.0,\"#0d0887\"],[0.1111111111111111,\"#46039f\"],[0.2222222222222222,\"#7201a8\"],[0.3333333333333333,\"#9c179e\"],[0.4444444444444444,\"#bd3786\"],[0.5555555555555556,\"#d8576b\"],[0.6666666666666666,\"#ed7953\"],[0.7777777777777778,\"#fb9f3a\"],[0.8888888888888888,\"#fdca26\"],[1.0,\"#f0f921\"]]}],\"surface\":[{\"type\":\"surface\",\"colorbar\":{\"outlinewidth\":0,\"ticks\":\"\"},\"colorscale\":[[0.0,\"#0d0887\"],[0.1111111111111111,\"#46039f\"],[0.2222222222222222,\"#7201a8\"],[0.3333333333333333,\"#9c179e\"],[0.4444444444444444,\"#bd3786\"],[0.5555555555555556,\"#d8576b\"],[0.6666666666666666,\"#ed7953\"],[0.7777777777777778,\"#fb9f3a\"],[0.8888888888888888,\"#fdca26\"],[1.0,\"#f0f921\"]]}],\"mesh3d\":[{\"type\":\"mesh3d\",\"colorbar\":{\"outlinewidth\":0,\"ticks\":\"\"}}],\"scatter\":[{\"fillpattern\":{\"fillmode\":\"overlay\",\"size\":10,\"solidity\":0.2},\"type\":\"scatter\"}],\"parcoords\":[{\"type\":\"parcoords\",\"line\":{\"colorbar\":{\"outlinewidth\":0,\"ticks\":\"\"}}}],\"scatterpolargl\":[{\"type\":\"scatterpolargl\",\"marker\":{\"colorbar\":{\"outlinewidth\":0,\"ticks\":\"\"}}}],\"bar\":[{\"error_x\":{\"color\":\"#2a3f5f\"},\"error_y\":{\"color\":\"#2a3f5f\"},\"marker\":{\"line\":{\"color\":\"#E5ECF6\",\"width\":0.5},\"pattern\":{\"fillmode\":\"overlay\",\"size\":10,\"solidity\":0.2}},\"type\":\"bar\"}],\"scattergeo\":[{\"type\":\"scattergeo\",\"marker\":{\"colorbar\":{\"outlinewidth\":0,\"ticks\":\"\"}}}],\"scatterpolar\":[{\"type\":\"scatterpolar\",\"marker\":{\"colorbar\":{\"outlinewidth\":0,\"ticks\":\"\"}}}],\"histogram\":[{\"marker\":{\"pattern\":{\"fillmode\":\"overlay\",\"size\":10,\"solidity\":0.2}},\"type\":\"histogram\"}],\"scattergl\":[{\"type\":\"scattergl\",\"marker\":{\"colorbar\":{\"outlinewidth\":0,\"ticks\":\"\"}}}],\"scatter3d\":[{\"type\":\"scatter3d\",\"line\":{\"colorbar\":{\"outlinewidth\":0,\"ticks\":\"\"}},\"marker\":{\"colorbar\":{\"outlinewidth\":0,\"ticks\":\"\"}}}],\"scattermapbox\":[{\"type\":\"scattermapbox\",\"marker\":{\"colorbar\":{\"outlinewidth\":0,\"ticks\":\"\"}}}],\"scatterternary\":[{\"type\":\"scatterternary\",\"marker\":{\"colorbar\":{\"outlinewidth\":0,\"ticks\":\"\"}}}],\"scattercarpet\":[{\"type\":\"scattercarpet\",\"marker\":{\"colorbar\":{\"outlinewidth\":0,\"ticks\":\"\"}}}],\"carpet\":[{\"aaxis\":{\"endlinecolor\":\"#2a3f5f\",\"gridcolor\":\"white\",\"linecolor\":\"white\",\"minorgridcolor\":\"white\",\"startlinecolor\":\"#2a3f5f\"},\"baxis\":{\"endlinecolor\":\"#2a3f5f\",\"gridcolor\":\"white\",\"linecolor\":\"white\",\"minorgridcolor\":\"white\",\"startlinecolor\":\"#2a3f5f\"},\"type\":\"carpet\"}],\"table\":[{\"cells\":{\"fill\":{\"color\":\"#EBF0F8\"},\"line\":{\"color\":\"white\"}},\"header\":{\"fill\":{\"color\":\"#C8D4E3\"},\"line\":{\"color\":\"white\"}},\"type\":\"table\"}],\"barpolar\":[{\"marker\":{\"line\":{\"color\":\"#E5ECF6\",\"width\":0.5},\"pattern\":{\"fillmode\":\"overlay\",\"size\":10,\"solidity\":0.2}},\"type\":\"barpolar\"}],\"pie\":[{\"automargin\":true,\"type\":\"pie\"}]},\"layout\":{\"autotypenumbers\":\"strict\",\"colorway\":[\"#636efa\",\"#EF553B\",\"#00cc96\",\"#ab63fa\",\"#FFA15A\",\"#19d3f3\",\"#FF6692\",\"#B6E880\",\"#FF97FF\",\"#FECB52\"],\"font\":{\"color\":\"#2a3f5f\"},\"hovermode\":\"closest\",\"hoverlabel\":{\"align\":\"left\"},\"paper_bgcolor\":\"white\",\"plot_bgcolor\":\"#E5ECF6\",\"polar\":{\"bgcolor\":\"#E5ECF6\",\"angularaxis\":{\"gridcolor\":\"white\",\"linecolor\":\"white\",\"ticks\":\"\"},\"radialaxis\":{\"gridcolor\":\"white\",\"linecolor\":\"white\",\"ticks\":\"\"}},\"ternary\":{\"bgcolor\":\"#E5ECF6\",\"aaxis\":{\"gridcolor\":\"white\",\"linecolor\":\"white\",\"ticks\":\"\"},\"baxis\":{\"gridcolor\":\"white\",\"linecolor\":\"white\",\"ticks\":\"\"},\"caxis\":{\"gridcolor\":\"white\",\"linecolor\":\"white\",\"ticks\":\"\"}},\"coloraxis\":{\"colorbar\":{\"outlinewidth\":0,\"ticks\":\"\"}},\"colorscale\":{\"sequential\":[[0.0,\"#0d0887\"],[0.1111111111111111,\"#46039f\"],[0.2222222222222222,\"#7201a8\"],[0.3333333333333333,\"#9c179e\"],[0.4444444444444444,\"#bd3786\"],[0.5555555555555556,\"#d8576b\"],[0.6666666666666666,\"#ed7953\"],[0.7777777777777778,\"#fb9f3a\"],[0.8888888888888888,\"#fdca26\"],[1.0,\"#f0f921\"]],\"sequentialminus\":[[0.0,\"#0d0887\"],[0.1111111111111111,\"#46039f\"],[0.2222222222222222,\"#7201a8\"],[0.3333333333333333,\"#9c179e\"],[0.4444444444444444,\"#bd3786\"],[0.5555555555555556,\"#d8576b\"],[0.6666666666666666,\"#ed7953\"],[0.7777777777777778,\"#fb9f3a\"],[0.8888888888888888,\"#fdca26\"],[1.0,\"#f0f921\"]],\"diverging\":[[0,\"#8e0152\"],[0.1,\"#c51b7d\"],[0.2,\"#de77ae\"],[0.3,\"#f1b6da\"],[0.4,\"#fde0ef\"],[0.5,\"#f7f7f7\"],[0.6,\"#e6f5d0\"],[0.7,\"#b8e186\"],[0.8,\"#7fbc41\"],[0.9,\"#4d9221\"],[1,\"#276419\"]]},\"xaxis\":{\"gridcolor\":\"white\",\"linecolor\":\"white\",\"ticks\":\"\",\"title\":{\"standoff\":15},\"zerolinecolor\":\"white\",\"automargin\":true,\"zerolinewidth\":2},\"yaxis\":{\"gridcolor\":\"white\",\"linecolor\":\"white\",\"ticks\":\"\",\"title\":{\"standoff\":15},\"zerolinecolor\":\"white\",\"automargin\":true,\"zerolinewidth\":2},\"scene\":{\"xaxis\":{\"backgroundcolor\":\"#E5ECF6\",\"gridcolor\":\"white\",\"linecolor\":\"white\",\"showbackground\":true,\"ticks\":\"\",\"zerolinecolor\":\"white\",\"gridwidth\":2},\"yaxis\":{\"backgroundcolor\":\"#E5ECF6\",\"gridcolor\":\"white\",\"linecolor\":\"white\",\"showbackground\":true,\"ticks\":\"\",\"zerolinecolor\":\"white\",\"gridwidth\":2},\"zaxis\":{\"backgroundcolor\":\"#E5ECF6\",\"gridcolor\":\"white\",\"linecolor\":\"white\",\"showbackground\":true,\"ticks\":\"\",\"zerolinecolor\":\"white\",\"gridwidth\":2}},\"shapedefaults\":{\"line\":{\"color\":\"#2a3f5f\"}},\"annotationdefaults\":{\"arrowcolor\":\"#2a3f5f\",\"arrowhead\":0,\"arrowwidth\":1},\"geo\":{\"bgcolor\":\"white\",\"landcolor\":\"#E5ECF6\",\"subunitcolor\":\"white\",\"showland\":true,\"showlakes\":true,\"lakecolor\":\"white\"},\"title\":{\"x\":0.05},\"mapbox\":{\"style\":\"light\"}}},\"xaxis\":{\"anchor\":\"y\",\"domain\":[0.0,0.7363],\"type\":\"log\",\"title\":{\"text\":\"video count\"}},\"yaxis\":{\"anchor\":\"x\",\"domain\":[0.0,1.0],\"title\":{\"text\":\"video views\"}},\"xaxis2\":{\"anchor\":\"y2\",\"domain\":[0.7413,1.0],\"matches\":\"x2\",\"showticklabels\":false,\"showline\":false,\"ticks\":\"\",\"showgrid\":false},\"yaxis2\":{\"anchor\":\"x2\",\"domain\":[0.0,1.0],\"matches\":\"y\",\"showticklabels\":false,\"showgrid\":true},\"legend\":{\"title\":{\"text\":\"category\"},\"tracegroupgap\":0,\"itemsizing\":\"constant\"},\"title\":{\"text\":\"Categories with Video views and Video count\"}},                        {\"responsive\": true}                    ).then(function(){\n",
       "                            \n",
       "var gd = document.getElementById('487cb6ee-3d37-454f-afca-dab4350ba5ff');\n",
       "var x = new MutationObserver(function (mutations, observer) {{\n",
       "        var display = window.getComputedStyle(gd).display;\n",
       "        if (!display || display === 'none') {{\n",
       "            console.log([gd, 'removed!']);\n",
       "            Plotly.purge(gd);\n",
       "            observer.disconnect();\n",
       "        }}\n",
       "}});\n",
       "\n",
       "// Listen for the removal of the full notebook cells\n",
       "var notebookContainer = gd.closest('#notebook-container');\n",
       "if (notebookContainer) {{\n",
       "    x.observe(notebookContainer, {childList: true});\n",
       "}}\n",
       "\n",
       "// Listen for the clearing of the current output cell\n",
       "var outputEl = gd.closest('.output');\n",
       "if (outputEl) {{\n",
       "    x.observe(outputEl, {childList: true});\n",
       "}}\n",
       "\n",
       "                        })                };                });            </script>        </div>"
      ]
     },
     "metadata": {},
     "output_type": "display_data"
    }
   ],
   "source": [
    "fig = px.scatter(df, x=\"video count\", y=\"video views\",\n",
    "                 size=\"video views\", color=\"category\",\n",
    "                 log_x=True, size_max=50,\n",
    "                 title=\"Categories with Video views and Video count\",\n",
    "                 marginal_y='rug')\n",
    "fig.show()"
   ]
  },
  {
   "cell_type": "markdown",
   "id": "c8d9f90d",
   "metadata": {
    "papermill": {
     "duration": 0.027258,
     "end_time": "2022-08-14T03:16:57.160525",
     "exception": false,
     "start_time": "2022-08-14T03:16:57.133267",
     "status": "completed"
    },
    "tags": []
   },
   "source": [
    " <h2 style=\"color:#0B5394;font-size: 1em \"><b>Relation between Category and Youtuber"
   ]
  },
  {
   "cell_type": "code",
   "execution_count": 32,
   "id": "80fecaab",
   "metadata": {
    "execution": {
     "iopub.execute_input": "2022-08-14T03:16:57.214903Z",
     "iopub.status.busy": "2022-08-14T03:16:57.214083Z",
     "iopub.status.idle": "2022-08-14T03:16:57.335750Z",
     "shell.execute_reply": "2022-08-14T03:16:57.334222Z"
    },
    "papermill": {
     "duration": 0.152099,
     "end_time": "2022-08-14T03:16:57.338738",
     "exception": false,
     "start_time": "2022-08-14T03:16:57.186639",
     "status": "completed"
    },
    "tags": []
   },
   "outputs": [
    {
     "data": {
      "text/html": [
       "<div>                            <div id=\"e9721c2b-89a2-4a33-9b18-e4b011a7672d\" class=\"plotly-graph-div\" style=\"height:525px; width:100%;\"></div>            <script type=\"text/javascript\">                require([\"plotly\"], function(Plotly) {                    window.PLOTLYENV=window.PLOTLYENV || {};                                    if (document.getElementById(\"e9721c2b-89a2-4a33-9b18-e4b011a7672d\")) {                    Plotly.newPlot(                        \"e9721c2b-89a2-4a33-9b18-e4b011a7672d\",                        [{\"branchvalues\":\"total\",\"domain\":{\"x\":[0.0,1.0],\"y\":[0.0,1.0]},\"hovertemplate\":\"labels=%{label}<br>count=%{value}<br>parent=%{parent}<br>id=%{id}<extra></extra>\",\"ids\":[\"How to & Style /5-Minute Crafts\",\"Gaming /A4\",\"People & Blogs /ABP News \",\"People & Blogs /ABS-CBN Entertainment \",\"News & Politics/Aaj Tak \",\"Music /Alan Walker \",\"Music /Ariana Grande \",\"Music /BANGTANTV \",\"People & Blogs /BLACKPINK \",\"How to & Style /BRIGHT SIDE \",\"Music /Bad Bunny \",\"Entertainment /Badabun \",\"Music /Billie Eilish \",\"Music /Bruno Mars \",\"Music /Canal KondZilla\",\"Comedy /CarryMinati \",\"Education /ChuChu TV Nursery Rhymes & Kids Songs \",\"Education /Cocomelon - Nursery Rhymes \",\"Shows /Colors TV \",\"Music /Daddy Yankee \",\"Music /Desi Music Factory \",\"Sports /Dude Perfect \",\"Music /Ed Sheeran \",\"Music /El Reino Infantil \",\"Music /EminemMusic \",\"Entertainment /Felipe Neto \",\"Gaming /Fernanfloo\",\"Music /GR6 EXPLODE \",\"Entertainment /Get Movies \",\"Film & Animation /Goldmines \",\"Music /Goldmines Gaane Sune Ansune \",\"Music /HYBE LABELS \",\"Entertainment /HolaSoyGerman \",\"Education /Infobells - Hindi \",\"Trailers /Ishtar Music \",\"Music /J Balvin \",\"Comedy /Jkk Entertainment \",\"Gaming /JuegaGerman\",\"Music /Justin Bieber \",\"Music /Katy Perry \",\"People & Blogs /Kids Diana Show \",\"People & Blogs /Kimberly Loaiza\",\"People & Blogs /LUCCAS NETO - LUCCAS TOON \",\"People & Blogs /Like Nastya\",\"Entertainment /Like Nastya ESP \",\"Entertainment /Like Nastya Show \",\"Education /Little Baby Bum - Nursery Rhymes & Kids Songs \",\"Music /LooLoo Kids - Nursery Rhymes and Children's Songs \",\"Comedy /Luisito Comunica \",\"Gaming /Markiplier \",\"Music /Maroon 5\",\"Entertainment /Marshmello \",\"Shows /Masha and The Bear \",\"Film & Animation /Movieclips \",\"Entertainment /MrBeast \",\"Music /One Direction \",\"Music /Ozuna \",\"Gaming /PewDiePie \",\"Education /Pinkfong Baby Shark - Kids' Songs & Stories \",\"Entertainment /Rihanna \",\"Entertainment /Ryan's World \",\"Shows /SET India \",\"People & Blogs /Shakira \",\"Entertainment /Shemaroo\",\"Music /Shemaroo Filmi Gaane \",\"People & Blogs /Shfa \",\"Music /Sony Music India \",\"Shows /Sony SAB \",\"Music /SonyMusicIndiaVEVO\",\"Music /Speed Records \",\"Education /Super Simple Songs - Kids Songs \",\"Music /T-Series \",\"Music /T-Series Bhakti Sagar \",\"Nonprofits & Activism /TEDx Talks \",\"Music /Taylor Swift \",\"Entertainment /TheEllenShow\",\"Music /Tips Official \",\"Entertainment /Toys and Colors \",\"Gaming /VEGETTA777\",\"Entertainment /Vlad and Niki \",\"Entertainment /Voce Sabia?\",\"Entertainment /Voot Kids \",\"Sports /WWE \",\"Music /Wave Music \",\"Comedy /Whinderssonnunes \",\"Entertainment /WorkpointOfficial \",\"Music /XXXTENTACION \",\"Film & Animation /YRF \",\"News & Politics/YouTube \",\"Music /Zee Music Company \",\"Entertainment /Zee TV \",\"Gaming /elrubiusOMG\",\"Entertainment /one31\",\"People & Blogs /shfa2 - شفا\",\"Film & Animation /Маша и Медведь\",\"Comedy \",\"Education \",\"Entertainment \",\"Film & Animation \",\"Gaming \",\"How to & Style \",\"Music \",\"News & Politics\",\"Nonprofits & Activism \",\"People & Blogs \",\"Shows \",\"Sports \",\"Trailers \"],\"labels\":[\"5-Minute Crafts\",\"A4\",\"ABP News \",\"ABS-CBN Entertainment \",\"Aaj Tak \",\"Alan Walker \",\"Ariana Grande \",\"BANGTANTV \",\"BLACKPINK \",\"BRIGHT SIDE \",\"Bad Bunny \",\"Badabun \",\"Billie Eilish \",\"Bruno Mars \",\"Canal KondZilla\",\"CarryMinati \",\"ChuChu TV Nursery Rhymes & Kids Songs \",\"Cocomelon - Nursery Rhymes \",\"Colors TV \",\"Daddy Yankee \",\"Desi Music Factory \",\"Dude Perfect \",\"Ed Sheeran \",\"El Reino Infantil \",\"EminemMusic \",\"Felipe Neto \",\"Fernanfloo\",\"GR6 EXPLODE \",\"Get Movies \",\"Goldmines \",\"Goldmines Gaane Sune Ansune \",\"HYBE LABELS \",\"HolaSoyGerman \",\"Infobells - Hindi \",\"Ishtar Music \",\"J Balvin \",\"Jkk Entertainment \",\"JuegaGerman\",\"Justin Bieber \",\"Katy Perry \",\"Kids Diana Show \",\"Kimberly Loaiza\",\"LUCCAS NETO - LUCCAS TOON \",\"Like Nastya\",\"Like Nastya ESP \",\"Like Nastya Show \",\"Little Baby Bum - Nursery Rhymes & Kids Songs \",\"LooLoo Kids - Nursery Rhymes and Children's Songs \",\"Luisito Comunica \",\"Markiplier \",\"Maroon 5\",\"Marshmello \",\"Masha and The Bear \",\"Movieclips \",\"MrBeast \",\"One Direction \",\"Ozuna \",\"PewDiePie \",\"Pinkfong Baby Shark - Kids' Songs & Stories \",\"Rihanna \",\"Ryan's World \",\"SET India \",\"Shakira \",\"Shemaroo\",\"Shemaroo Filmi Gaane \",\"Shfa \",\"Sony Music India \",\"Sony SAB \",\"SonyMusicIndiaVEVO\",\"Speed Records \",\"Super Simple Songs - Kids Songs \",\"T-Series \",\"T-Series Bhakti Sagar \",\"TEDx Talks \",\"Taylor Swift \",\"TheEllenShow\",\"Tips Official \",\"Toys and Colors \",\"VEGETTA777\",\"Vlad and Niki \",\"Voce Sabia?\",\"Voot Kids \",\"WWE \",\"Wave Music \",\"Whinderssonnunes \",\"WorkpointOfficial \",\"XXXTENTACION \",\"YRF \",\"YouTube \",\"Zee Music Company \",\"Zee TV \",\"elrubiusOMG\",\"one31\",\"shfa2 - شفا\",\"Маша и Медведь\",\"Comedy \",\"Education \",\"Entertainment \",\"Film & Animation \",\"Gaming \",\"How to & Style \",\"Music \",\"News & Politics\",\"Nonprofits & Activism \",\"People & Blogs \",\"Shows \",\"Sports \",\"Trailers \"],\"name\":\"\",\"parents\":[\"How to & Style \",\"Gaming \",\"People & Blogs \",\"People & Blogs \",\"News & Politics\",\"Music \",\"Music \",\"Music \",\"People & Blogs \",\"How to & Style \",\"Music \",\"Entertainment \",\"Music \",\"Music \",\"Music \",\"Comedy \",\"Education \",\"Education \",\"Shows \",\"Music \",\"Music \",\"Sports \",\"Music \",\"Music \",\"Music \",\"Entertainment \",\"Gaming \",\"Music \",\"Entertainment \",\"Film & Animation \",\"Music \",\"Music \",\"Entertainment \",\"Education \",\"Trailers \",\"Music \",\"Comedy \",\"Gaming \",\"Music \",\"Music \",\"People & Blogs \",\"People & Blogs \",\"People & Blogs \",\"People & Blogs \",\"Entertainment \",\"Entertainment \",\"Education \",\"Music \",\"Comedy \",\"Gaming \",\"Music \",\"Entertainment \",\"Shows \",\"Film & Animation \",\"Entertainment \",\"Music \",\"Music \",\"Gaming \",\"Education \",\"Entertainment \",\"Entertainment \",\"Shows \",\"People & Blogs \",\"Entertainment \",\"Music \",\"People & Blogs \",\"Music \",\"Shows \",\"Music \",\"Music \",\"Education \",\"Music \",\"Music \",\"Nonprofits & Activism \",\"Music \",\"Entertainment \",\"Music \",\"Entertainment \",\"Gaming \",\"Entertainment \",\"Entertainment \",\"Entertainment \",\"Sports \",\"Music \",\"Comedy \",\"Entertainment \",\"Music \",\"Film & Animation \",\"News & Politics\",\"Music \",\"Entertainment \",\"Gaming \",\"Entertainment \",\"People & Blogs \",\"Film & Animation \",\"\",\"\",\"\",\"\",\"\",\"\",\"\",\"\",\"\",\"\",\"\",\"\",\"\"],\"values\":[1,1,1,1,1,1,1,1,1,1,1,1,1,1,1,1,1,1,1,1,1,1,1,1,1,1,1,1,1,1,1,1,1,1,1,1,1,1,1,1,1,1,1,1,1,1,1,1,1,1,1,1,1,1,1,1,1,1,1,1,1,1,1,1,1,1,1,1,1,1,1,1,1,1,1,1,1,1,1,1,1,1,1,1,1,1,1,1,1,1,1,1,1,1,1,4,6,19,4,7,2,33,2,1,10,4,2,1],\"type\":\"sunburst\"}],                        {\"template\":{\"data\":{\"histogram2dcontour\":[{\"type\":\"histogram2dcontour\",\"colorbar\":{\"outlinewidth\":0,\"ticks\":\"\"},\"colorscale\":[[0.0,\"#0d0887\"],[0.1111111111111111,\"#46039f\"],[0.2222222222222222,\"#7201a8\"],[0.3333333333333333,\"#9c179e\"],[0.4444444444444444,\"#bd3786\"],[0.5555555555555556,\"#d8576b\"],[0.6666666666666666,\"#ed7953\"],[0.7777777777777778,\"#fb9f3a\"],[0.8888888888888888,\"#fdca26\"],[1.0,\"#f0f921\"]]}],\"choropleth\":[{\"type\":\"choropleth\",\"colorbar\":{\"outlinewidth\":0,\"ticks\":\"\"}}],\"histogram2d\":[{\"type\":\"histogram2d\",\"colorbar\":{\"outlinewidth\":0,\"ticks\":\"\"},\"colorscale\":[[0.0,\"#0d0887\"],[0.1111111111111111,\"#46039f\"],[0.2222222222222222,\"#7201a8\"],[0.3333333333333333,\"#9c179e\"],[0.4444444444444444,\"#bd3786\"],[0.5555555555555556,\"#d8576b\"],[0.6666666666666666,\"#ed7953\"],[0.7777777777777778,\"#fb9f3a\"],[0.8888888888888888,\"#fdca26\"],[1.0,\"#f0f921\"]]}],\"heatmap\":[{\"type\":\"heatmap\",\"colorbar\":{\"outlinewidth\":0,\"ticks\":\"\"},\"colorscale\":[[0.0,\"#0d0887\"],[0.1111111111111111,\"#46039f\"],[0.2222222222222222,\"#7201a8\"],[0.3333333333333333,\"#9c179e\"],[0.4444444444444444,\"#bd3786\"],[0.5555555555555556,\"#d8576b\"],[0.6666666666666666,\"#ed7953\"],[0.7777777777777778,\"#fb9f3a\"],[0.8888888888888888,\"#fdca26\"],[1.0,\"#f0f921\"]]}],\"heatmapgl\":[{\"type\":\"heatmapgl\",\"colorbar\":{\"outlinewidth\":0,\"ticks\":\"\"},\"colorscale\":[[0.0,\"#0d0887\"],[0.1111111111111111,\"#46039f\"],[0.2222222222222222,\"#7201a8\"],[0.3333333333333333,\"#9c179e\"],[0.4444444444444444,\"#bd3786\"],[0.5555555555555556,\"#d8576b\"],[0.6666666666666666,\"#ed7953\"],[0.7777777777777778,\"#fb9f3a\"],[0.8888888888888888,\"#fdca26\"],[1.0,\"#f0f921\"]]}],\"contourcarpet\":[{\"type\":\"contourcarpet\",\"colorbar\":{\"outlinewidth\":0,\"ticks\":\"\"}}],\"contour\":[{\"type\":\"contour\",\"colorbar\":{\"outlinewidth\":0,\"ticks\":\"\"},\"colorscale\":[[0.0,\"#0d0887\"],[0.1111111111111111,\"#46039f\"],[0.2222222222222222,\"#7201a8\"],[0.3333333333333333,\"#9c179e\"],[0.4444444444444444,\"#bd3786\"],[0.5555555555555556,\"#d8576b\"],[0.6666666666666666,\"#ed7953\"],[0.7777777777777778,\"#fb9f3a\"],[0.8888888888888888,\"#fdca26\"],[1.0,\"#f0f921\"]]}],\"surface\":[{\"type\":\"surface\",\"colorbar\":{\"outlinewidth\":0,\"ticks\":\"\"},\"colorscale\":[[0.0,\"#0d0887\"],[0.1111111111111111,\"#46039f\"],[0.2222222222222222,\"#7201a8\"],[0.3333333333333333,\"#9c179e\"],[0.4444444444444444,\"#bd3786\"],[0.5555555555555556,\"#d8576b\"],[0.6666666666666666,\"#ed7953\"],[0.7777777777777778,\"#fb9f3a\"],[0.8888888888888888,\"#fdca26\"],[1.0,\"#f0f921\"]]}],\"mesh3d\":[{\"type\":\"mesh3d\",\"colorbar\":{\"outlinewidth\":0,\"ticks\":\"\"}}],\"scatter\":[{\"fillpattern\":{\"fillmode\":\"overlay\",\"size\":10,\"solidity\":0.2},\"type\":\"scatter\"}],\"parcoords\":[{\"type\":\"parcoords\",\"line\":{\"colorbar\":{\"outlinewidth\":0,\"ticks\":\"\"}}}],\"scatterpolargl\":[{\"type\":\"scatterpolargl\",\"marker\":{\"colorbar\":{\"outlinewidth\":0,\"ticks\":\"\"}}}],\"bar\":[{\"error_x\":{\"color\":\"#2a3f5f\"},\"error_y\":{\"color\":\"#2a3f5f\"},\"marker\":{\"line\":{\"color\":\"#E5ECF6\",\"width\":0.5},\"pattern\":{\"fillmode\":\"overlay\",\"size\":10,\"solidity\":0.2}},\"type\":\"bar\"}],\"scattergeo\":[{\"type\":\"scattergeo\",\"marker\":{\"colorbar\":{\"outlinewidth\":0,\"ticks\":\"\"}}}],\"scatterpolar\":[{\"type\":\"scatterpolar\",\"marker\":{\"colorbar\":{\"outlinewidth\":0,\"ticks\":\"\"}}}],\"histogram\":[{\"marker\":{\"pattern\":{\"fillmode\":\"overlay\",\"size\":10,\"solidity\":0.2}},\"type\":\"histogram\"}],\"scattergl\":[{\"type\":\"scattergl\",\"marker\":{\"colorbar\":{\"outlinewidth\":0,\"ticks\":\"\"}}}],\"scatter3d\":[{\"type\":\"scatter3d\",\"line\":{\"colorbar\":{\"outlinewidth\":0,\"ticks\":\"\"}},\"marker\":{\"colorbar\":{\"outlinewidth\":0,\"ticks\":\"\"}}}],\"scattermapbox\":[{\"type\":\"scattermapbox\",\"marker\":{\"colorbar\":{\"outlinewidth\":0,\"ticks\":\"\"}}}],\"scatterternary\":[{\"type\":\"scatterternary\",\"marker\":{\"colorbar\":{\"outlinewidth\":0,\"ticks\":\"\"}}}],\"scattercarpet\":[{\"type\":\"scattercarpet\",\"marker\":{\"colorbar\":{\"outlinewidth\":0,\"ticks\":\"\"}}}],\"carpet\":[{\"aaxis\":{\"endlinecolor\":\"#2a3f5f\",\"gridcolor\":\"white\",\"linecolor\":\"white\",\"minorgridcolor\":\"white\",\"startlinecolor\":\"#2a3f5f\"},\"baxis\":{\"endlinecolor\":\"#2a3f5f\",\"gridcolor\":\"white\",\"linecolor\":\"white\",\"minorgridcolor\":\"white\",\"startlinecolor\":\"#2a3f5f\"},\"type\":\"carpet\"}],\"table\":[{\"cells\":{\"fill\":{\"color\":\"#EBF0F8\"},\"line\":{\"color\":\"white\"}},\"header\":{\"fill\":{\"color\":\"#C8D4E3\"},\"line\":{\"color\":\"white\"}},\"type\":\"table\"}],\"barpolar\":[{\"marker\":{\"line\":{\"color\":\"#E5ECF6\",\"width\":0.5},\"pattern\":{\"fillmode\":\"overlay\",\"size\":10,\"solidity\":0.2}},\"type\":\"barpolar\"}],\"pie\":[{\"automargin\":true,\"type\":\"pie\"}]},\"layout\":{\"autotypenumbers\":\"strict\",\"colorway\":[\"#636efa\",\"#EF553B\",\"#00cc96\",\"#ab63fa\",\"#FFA15A\",\"#19d3f3\",\"#FF6692\",\"#B6E880\",\"#FF97FF\",\"#FECB52\"],\"font\":{\"color\":\"#2a3f5f\"},\"hovermode\":\"closest\",\"hoverlabel\":{\"align\":\"left\"},\"paper_bgcolor\":\"white\",\"plot_bgcolor\":\"#E5ECF6\",\"polar\":{\"bgcolor\":\"#E5ECF6\",\"angularaxis\":{\"gridcolor\":\"white\",\"linecolor\":\"white\",\"ticks\":\"\"},\"radialaxis\":{\"gridcolor\":\"white\",\"linecolor\":\"white\",\"ticks\":\"\"}},\"ternary\":{\"bgcolor\":\"#E5ECF6\",\"aaxis\":{\"gridcolor\":\"white\",\"linecolor\":\"white\",\"ticks\":\"\"},\"baxis\":{\"gridcolor\":\"white\",\"linecolor\":\"white\",\"ticks\":\"\"},\"caxis\":{\"gridcolor\":\"white\",\"linecolor\":\"white\",\"ticks\":\"\"}},\"coloraxis\":{\"colorbar\":{\"outlinewidth\":0,\"ticks\":\"\"}},\"colorscale\":{\"sequential\":[[0.0,\"#0d0887\"],[0.1111111111111111,\"#46039f\"],[0.2222222222222222,\"#7201a8\"],[0.3333333333333333,\"#9c179e\"],[0.4444444444444444,\"#bd3786\"],[0.5555555555555556,\"#d8576b\"],[0.6666666666666666,\"#ed7953\"],[0.7777777777777778,\"#fb9f3a\"],[0.8888888888888888,\"#fdca26\"],[1.0,\"#f0f921\"]],\"sequentialminus\":[[0.0,\"#0d0887\"],[0.1111111111111111,\"#46039f\"],[0.2222222222222222,\"#7201a8\"],[0.3333333333333333,\"#9c179e\"],[0.4444444444444444,\"#bd3786\"],[0.5555555555555556,\"#d8576b\"],[0.6666666666666666,\"#ed7953\"],[0.7777777777777778,\"#fb9f3a\"],[0.8888888888888888,\"#fdca26\"],[1.0,\"#f0f921\"]],\"diverging\":[[0,\"#8e0152\"],[0.1,\"#c51b7d\"],[0.2,\"#de77ae\"],[0.3,\"#f1b6da\"],[0.4,\"#fde0ef\"],[0.5,\"#f7f7f7\"],[0.6,\"#e6f5d0\"],[0.7,\"#b8e186\"],[0.8,\"#7fbc41\"],[0.9,\"#4d9221\"],[1,\"#276419\"]]},\"xaxis\":{\"gridcolor\":\"white\",\"linecolor\":\"white\",\"ticks\":\"\",\"title\":{\"standoff\":15},\"zerolinecolor\":\"white\",\"automargin\":true,\"zerolinewidth\":2},\"yaxis\":{\"gridcolor\":\"white\",\"linecolor\":\"white\",\"ticks\":\"\",\"title\":{\"standoff\":15},\"zerolinecolor\":\"white\",\"automargin\":true,\"zerolinewidth\":2},\"scene\":{\"xaxis\":{\"backgroundcolor\":\"#E5ECF6\",\"gridcolor\":\"white\",\"linecolor\":\"white\",\"showbackground\":true,\"ticks\":\"\",\"zerolinecolor\":\"white\",\"gridwidth\":2},\"yaxis\":{\"backgroundcolor\":\"#E5ECF6\",\"gridcolor\":\"white\",\"linecolor\":\"white\",\"showbackground\":true,\"ticks\":\"\",\"zerolinecolor\":\"white\",\"gridwidth\":2},\"zaxis\":{\"backgroundcolor\":\"#E5ECF6\",\"gridcolor\":\"white\",\"linecolor\":\"white\",\"showbackground\":true,\"ticks\":\"\",\"zerolinecolor\":\"white\",\"gridwidth\":2}},\"shapedefaults\":{\"line\":{\"color\":\"#2a3f5f\"}},\"annotationdefaults\":{\"arrowcolor\":\"#2a3f5f\",\"arrowhead\":0,\"arrowwidth\":1},\"geo\":{\"bgcolor\":\"white\",\"landcolor\":\"#E5ECF6\",\"subunitcolor\":\"white\",\"showland\":true,\"showlakes\":true,\"lakecolor\":\"white\"},\"title\":{\"x\":0.05},\"mapbox\":{\"style\":\"light\"}}},\"legend\":{\"tracegroupgap\":0},\"margin\":{\"t\":60}},                        {\"responsive\": true}                    ).then(function(){\n",
       "                            \n",
       "var gd = document.getElementById('e9721c2b-89a2-4a33-9b18-e4b011a7672d');\n",
       "var x = new MutationObserver(function (mutations, observer) {{\n",
       "        var display = window.getComputedStyle(gd).display;\n",
       "        if (!display || display === 'none') {{\n",
       "            console.log([gd, 'removed!']);\n",
       "            Plotly.purge(gd);\n",
       "            observer.disconnect();\n",
       "        }}\n",
       "}});\n",
       "\n",
       "// Listen for the removal of the full notebook cells\n",
       "var notebookContainer = gd.closest('#notebook-container');\n",
       "if (notebookContainer) {{\n",
       "    x.observe(notebookContainer, {childList: true});\n",
       "}}\n",
       "\n",
       "// Listen for the clearing of the current output cell\n",
       "var outputEl = gd.closest('.output');\n",
       "if (outputEl) {{\n",
       "    x.observe(outputEl, {childList: true});\n",
       "}}\n",
       "\n",
       "                        })                };                });            </script>        </div>"
      ]
     },
     "metadata": {},
     "output_type": "display_data"
    }
   ],
   "source": [
    "fig=px.sunburst(df, path=['category','youtuber'])\n",
    "fig.show()"
   ]
  },
  {
   "cell_type": "markdown",
   "id": "a20f3ab6",
   "metadata": {
    "execution": {
     "iopub.execute_input": "2022-08-14T03:15:56.896953Z",
     "iopub.status.busy": "2022-08-14T03:15:56.896587Z",
     "iopub.status.idle": "2022-08-14T03:15:56.903737Z",
     "shell.execute_reply": "2022-08-14T03:15:56.902189Z",
     "shell.execute_reply.started": "2022-08-14T03:15:56.896921Z"
    },
    "papermill": {
     "duration": 0.025186,
     "end_time": "2022-08-14T03:16:57.390068",
     "exception": false,
     "start_time": "2022-08-14T03:16:57.364882",
     "status": "completed"
    },
    "tags": []
   },
   "source": [
    " <h2 style=\"color:#0B5394;font-size: 1em \"><b> Pair plot"
   ]
  },
  {
   "cell_type": "code",
   "execution_count": 33,
   "id": "5d171953",
   "metadata": {
    "execution": {
     "iopub.execute_input": "2022-08-14T03:16:57.445805Z",
     "iopub.status.busy": "2022-08-14T03:16:57.445335Z",
     "iopub.status.idle": "2022-08-14T03:17:02.966222Z",
     "shell.execute_reply": "2022-08-14T03:17:02.965125Z"
    },
    "papermill": {
     "duration": 5.552544,
     "end_time": "2022-08-14T03:17:02.970824",
     "exception": false,
     "start_time": "2022-08-14T03:16:57.418280",
     "status": "completed"
    },
    "tags": []
   },
   "outputs": [
    {
     "data": {
      "image/png": "[encoded data removed]",
      "text/plain": [
       "<Figure size 900x900 with 30 Axes>"
      ]
     },
     "metadata": {
      "needs_background": "light"
     },
     "output_type": "display_data"
    }
   ],
   "source": [
    "sns.pairplot(df)\n",
    "sns.set_theme('notebook')\n",
    "plt.show();"
   ]
  },
  {
   "cell_type": "markdown",
   "id": "43e0f10a",
   "metadata": {
    "papermill": {
     "duration": 0.026982,
     "end_time": "2022-08-14T03:17:03.025583",
     "exception": false,
     "start_time": "2022-08-14T03:17:02.998601",
     "status": "completed"
    },
    "tags": []
   },
   "source": [
    " <h2 style=\"color:#0B5394;font-size: 1em \"><b> \n",
    "The heat chart depicts the correlation"
   ]
  },
  {
   "cell_type": "code",
   "execution_count": 34,
   "id": "fe528154",
   "metadata": {
    "execution": {
     "iopub.execute_input": "2022-08-14T03:17:03.082290Z",
     "iopub.status.busy": "2022-08-14T03:17:03.081367Z",
     "iopub.status.idle": "2022-08-14T03:17:03.483707Z",
     "shell.execute_reply": "2022-08-14T03:17:03.482085Z"
    },
    "papermill": {
     "duration": 0.433941,
     "end_time": "2022-08-14T03:17:03.486504",
     "exception": false,
     "start_time": "2022-08-14T03:17:03.052563",
     "status": "completed"
    },
    "tags": []
   },
   "outputs": [
    {
     "data": {
      "image/png": "[encoded data removed]",
      "text/plain": [
       "<Figure size 1440x576 with 2 Axes>"
      ]
     },
     "metadata": {},
     "output_type": "display_data"
    }
   ],
   "source": [
    "plt.figure(figsize=(20,8))\n",
    "sns.set_theme('notebook')\n",
    "sns.heatmap(df.corr(), annot=True, center=True);"
   ]
  },
  {
   "cell_type": "markdown",
   "id": "a33fd025",
   "metadata": {
    "papermill": {
     "duration": 0.02785,
     "end_time": "2022-08-14T03:17:03.543344",
     "exception": false,
     "start_time": "2022-08-14T03:17:03.515494",
     "status": "completed"
    },
    "tags": []
   },
   "source": [
    "### <div style=\"text-align: left; background-color: #A0D992; font-family:Cursive; color: #125E12; padding: 15px; line-height:1;border-radius:1px; margin-bottom: 0em\">6. Authors Message<div>"
   ]
  },
  {
   "cell_type": "markdown",
   "id": "9ebfc989",
   "metadata": {
    "papermill": {
     "duration": 0.027818,
     "end_time": "2022-08-14T03:17:03.599766",
     "exception": false,
     "start_time": "2022-08-14T03:17:03.571948",
     "status": "completed"
    },
    "tags": []
   },
   "source": [
    "If you find this helpful, I would really appreciate the upvote! If you see something wrong please let me know. And lastly Im happy to hear your thoughts about the notebook for me to also improve!"
   ]
  },
  {
   "cell_type": "markdown",
   "id": "52a49e55",
   "metadata": {
    "papermill": {
     "duration": 0.027595,
     "end_time": "2022-08-14T03:17:03.655438",
     "exception": false,
     "start_time": "2022-08-14T03:17:03.627843",
     "status": "completed"
    },
    "tags": []
   },
   "source": [
    "### <div style=\"text-align: left; background-color: #A0D992; font-family:Cursive; color: #125E12; padding: 15px; line-height:1;border-radius:1px; margin-bottom: 0em\">---------------🙇Thanks For Watching!------------------<div>"
   ]
  }
 ],
 "metadata": {
  "kernelspec": {
   "display_name": "Python 3",
   "language": "python",
   "name": "python3"
  },
  "language_info": {
   "codemirror_mode": {
    "name": "ipython",
    "version": 3
   },
   "file_extension": ".py",
   "mimetype": "text/x-python",
   "name": "python",
   "nbconvert_exporter": "python",
   "pygments_lexer": "ipython3",
   "version": "3.7.12"
  },
  "papermill": {
   "default_parameters": {},
   "duration": 28.19984,
   "end_time": "2022-08-14T03:17:05.012998",
   "environment_variables": {},
   "exception": null,
   "input_path": "__notebook__.ipynb",
   "output_path": "__notebook__.ipynb",
   "parameters": {},
   "start_time": "2022-08-14T03:16:36.813158",
   "version": "2.3.4"
  }
 },
 "nbformat": 4,
 "nbformat_minor": 5
}
